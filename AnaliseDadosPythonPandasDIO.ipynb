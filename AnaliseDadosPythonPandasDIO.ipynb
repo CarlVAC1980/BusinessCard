{
  "nbformat": 4,
  "nbformat_minor": 0,
  "metadata": {
    "colab": {
      "name": "AnaliseDadosPythonPandasDIO.ipynb",
      "provenance": [],
      "mount_file_id": "1YjZ88FpFVO2zSJH0VYSkzIVsmye14ONP",
      "authorship_tag": "ABX9TyOjYCBhP8Kj24BhANtPEFnv",
      "include_colab_link": true
    },
    "kernelspec": {
      "name": "python3",
      "display_name": "Python 3"
    },
    "language_info": {
      "name": "python"
    }
  },
  "cells": [
    {
      "cell_type": "markdown",
      "metadata": {
        "id": "view-in-github",
        "colab_type": "text"
      },
      "source": [
        "<a href=\"https://colab.research.google.com/github/CarlVAC1980/BusinessCard/blob/master/AnaliseDadosPythonPandasDIO.ipynb\" target=\"_parent\"><img src=\"https://colab.research.google.com/assets/colab-badge.svg\" alt=\"Open In Colab\"/></a>"
      ]
    },
    {
      "cell_type": "markdown",
      "metadata": {
        "id": "hlKzzonuPJuX"
      },
      "source": [
        "# **Python para análise de dados(Pandas)**"
      ]
    },
    {
      "cell_type": "code",
      "metadata": {
        "id": "B3NGwnztGJIj"
      },
      "source": [
        "#Importando a biblioteca pandas\n",
        "import pandas as pd"
      ],
      "execution_count": 1,
      "outputs": []
    },
    {
      "cell_type": "code",
      "metadata": {
        "id": "epLmEjuXQ1WI"
      },
      "source": [
        "df = pd.read_csv(\"/content/drive/MyDrive/datasets/Gapminder.csv\",error_bad_lines=False, sep=\";\")"
      ],
      "execution_count": 7,
      "outputs": []
    },
    {
      "cell_type": "code",
      "metadata": {
        "colab": {
          "base_uri": "https://localhost:8080/",
          "height": 204
        },
        "id": "r1ZCUm0TSkOm",
        "outputId": "f7ef1c30-398e-4791-f4d7-905dd160c434"
      },
      "source": [
        "#Visualizando as 5 primeiraqs linhas\n",
        "df.head()"
      ],
      "execution_count": 8,
      "outputs": [
        {
          "output_type": "execute_result",
          "data": {
            "text/html": [
              "<div>\n",
              "<style scoped>\n",
              "    .dataframe tbody tr th:only-of-type {\n",
              "        vertical-align: middle;\n",
              "    }\n",
              "\n",
              "    .dataframe tbody tr th {\n",
              "        vertical-align: top;\n",
              "    }\n",
              "\n",
              "    .dataframe thead th {\n",
              "        text-align: right;\n",
              "    }\n",
              "</style>\n",
              "<table border=\"1\" class=\"dataframe\">\n",
              "  <thead>\n",
              "    <tr style=\"text-align: right;\">\n",
              "      <th></th>\n",
              "      <th>country</th>\n",
              "      <th>continent</th>\n",
              "      <th>year</th>\n",
              "      <th>lifeExp</th>\n",
              "      <th>pop</th>\n",
              "      <th>gdpPercap</th>\n",
              "    </tr>\n",
              "  </thead>\n",
              "  <tbody>\n",
              "    <tr>\n",
              "      <th>0</th>\n",
              "      <td>Afghanistan</td>\n",
              "      <td>Asia</td>\n",
              "      <td>1952</td>\n",
              "      <td>28.801</td>\n",
              "      <td>8425333</td>\n",
              "      <td>779.445314</td>\n",
              "    </tr>\n",
              "    <tr>\n",
              "      <th>1</th>\n",
              "      <td>Afghanistan</td>\n",
              "      <td>Asia</td>\n",
              "      <td>1957</td>\n",
              "      <td>30.332</td>\n",
              "      <td>9240934</td>\n",
              "      <td>820.853030</td>\n",
              "    </tr>\n",
              "    <tr>\n",
              "      <th>2</th>\n",
              "      <td>Afghanistan</td>\n",
              "      <td>Asia</td>\n",
              "      <td>1962</td>\n",
              "      <td>31.997</td>\n",
              "      <td>10267083</td>\n",
              "      <td>853.100710</td>\n",
              "    </tr>\n",
              "    <tr>\n",
              "      <th>3</th>\n",
              "      <td>Afghanistan</td>\n",
              "      <td>Asia</td>\n",
              "      <td>1967</td>\n",
              "      <td>34.020</td>\n",
              "      <td>11537966</td>\n",
              "      <td>836.197138</td>\n",
              "    </tr>\n",
              "    <tr>\n",
              "      <th>4</th>\n",
              "      <td>Afghanistan</td>\n",
              "      <td>Asia</td>\n",
              "      <td>1972</td>\n",
              "      <td>36.088</td>\n",
              "      <td>13079460</td>\n",
              "      <td>739.981106</td>\n",
              "    </tr>\n",
              "  </tbody>\n",
              "</table>\n",
              "</div>"
            ],
            "text/plain": [
              "       country continent  year  lifeExp       pop   gdpPercap\n",
              "0  Afghanistan      Asia  1952   28.801   8425333  779.445314\n",
              "1  Afghanistan      Asia  1957   30.332   9240934  820.853030\n",
              "2  Afghanistan      Asia  1962   31.997  10267083  853.100710\n",
              "3  Afghanistan      Asia  1967   34.020  11537966  836.197138\n",
              "4  Afghanistan      Asia  1972   36.088  13079460  739.981106"
            ]
          },
          "metadata": {
            "tags": []
          },
          "execution_count": 8
        }
      ]
    },
    {
      "cell_type": "code",
      "metadata": {
        "id": "MZeuBUT7S9NU"
      },
      "source": [
        "df = df.rename(columns={\"country\":\"Pais\", \"continent\": \"continente\", \"year\": \"Ano\", \"lifeExp\": \"Expectativa_de_vida\", \"pop\": \"Pop Total\", \"gdpPercap\": \"PIB\"})"
      ],
      "execution_count": 10,
      "outputs": []
    },
    {
      "cell_type": "code",
      "metadata": {
        "colab": {
          "base_uri": "https://localhost:8080/",
          "height": 359
        },
        "id": "ot5Q0fuKUAOc",
        "outputId": "ca4954a9-17cd-43c0-d3fa-e506fe1b422d"
      },
      "source": [
        "df.head(10)"
      ],
      "execution_count": 12,
      "outputs": [
        {
          "output_type": "execute_result",
          "data": {
            "text/html": [
              "<div>\n",
              "<style scoped>\n",
              "    .dataframe tbody tr th:only-of-type {\n",
              "        vertical-align: middle;\n",
              "    }\n",
              "\n",
              "    .dataframe tbody tr th {\n",
              "        vertical-align: top;\n",
              "    }\n",
              "\n",
              "    .dataframe thead th {\n",
              "        text-align: right;\n",
              "    }\n",
              "</style>\n",
              "<table border=\"1\" class=\"dataframe\">\n",
              "  <thead>\n",
              "    <tr style=\"text-align: right;\">\n",
              "      <th></th>\n",
              "      <th>Pais</th>\n",
              "      <th>continente</th>\n",
              "      <th>Ano</th>\n",
              "      <th>Expectativa_de_vida</th>\n",
              "      <th>Pop Total</th>\n",
              "      <th>PIB</th>\n",
              "    </tr>\n",
              "  </thead>\n",
              "  <tbody>\n",
              "    <tr>\n",
              "      <th>0</th>\n",
              "      <td>Afghanistan</td>\n",
              "      <td>Asia</td>\n",
              "      <td>1952</td>\n",
              "      <td>28.801</td>\n",
              "      <td>8425333</td>\n",
              "      <td>779.445314</td>\n",
              "    </tr>\n",
              "    <tr>\n",
              "      <th>1</th>\n",
              "      <td>Afghanistan</td>\n",
              "      <td>Asia</td>\n",
              "      <td>1957</td>\n",
              "      <td>30.332</td>\n",
              "      <td>9240934</td>\n",
              "      <td>820.853030</td>\n",
              "    </tr>\n",
              "    <tr>\n",
              "      <th>2</th>\n",
              "      <td>Afghanistan</td>\n",
              "      <td>Asia</td>\n",
              "      <td>1962</td>\n",
              "      <td>31.997</td>\n",
              "      <td>10267083</td>\n",
              "      <td>853.100710</td>\n",
              "    </tr>\n",
              "    <tr>\n",
              "      <th>3</th>\n",
              "      <td>Afghanistan</td>\n",
              "      <td>Asia</td>\n",
              "      <td>1967</td>\n",
              "      <td>34.020</td>\n",
              "      <td>11537966</td>\n",
              "      <td>836.197138</td>\n",
              "    </tr>\n",
              "    <tr>\n",
              "      <th>4</th>\n",
              "      <td>Afghanistan</td>\n",
              "      <td>Asia</td>\n",
              "      <td>1972</td>\n",
              "      <td>36.088</td>\n",
              "      <td>13079460</td>\n",
              "      <td>739.981106</td>\n",
              "    </tr>\n",
              "    <tr>\n",
              "      <th>5</th>\n",
              "      <td>Afghanistan</td>\n",
              "      <td>Asia</td>\n",
              "      <td>1977</td>\n",
              "      <td>38.438</td>\n",
              "      <td>14880372</td>\n",
              "      <td>786.113360</td>\n",
              "    </tr>\n",
              "    <tr>\n",
              "      <th>6</th>\n",
              "      <td>Afghanistan</td>\n",
              "      <td>Asia</td>\n",
              "      <td>1982</td>\n",
              "      <td>39.854</td>\n",
              "      <td>12881816</td>\n",
              "      <td>978.011439</td>\n",
              "    </tr>\n",
              "    <tr>\n",
              "      <th>7</th>\n",
              "      <td>Afghanistan</td>\n",
              "      <td>Asia</td>\n",
              "      <td>1987</td>\n",
              "      <td>40.822</td>\n",
              "      <td>13867957</td>\n",
              "      <td>852.395945</td>\n",
              "    </tr>\n",
              "    <tr>\n",
              "      <th>8</th>\n",
              "      <td>Afghanistan</td>\n",
              "      <td>Asia</td>\n",
              "      <td>1992</td>\n",
              "      <td>41.674</td>\n",
              "      <td>16317921</td>\n",
              "      <td>649.341395</td>\n",
              "    </tr>\n",
              "    <tr>\n",
              "      <th>9</th>\n",
              "      <td>Afghanistan</td>\n",
              "      <td>Asia</td>\n",
              "      <td>1997</td>\n",
              "      <td>41.763</td>\n",
              "      <td>22227415</td>\n",
              "      <td>635.341351</td>\n",
              "    </tr>\n",
              "  </tbody>\n",
              "</table>\n",
              "</div>"
            ],
            "text/plain": [
              "          Pais continente   Ano  Expectativa_de_vida  Pop Total         PIB\n",
              "0  Afghanistan       Asia  1952               28.801    8425333  779.445314\n",
              "1  Afghanistan       Asia  1957               30.332    9240934  820.853030\n",
              "2  Afghanistan       Asia  1962               31.997   10267083  853.100710\n",
              "3  Afghanistan       Asia  1967               34.020   11537966  836.197138\n",
              "4  Afghanistan       Asia  1972               36.088   13079460  739.981106\n",
              "5  Afghanistan       Asia  1977               38.438   14880372  786.113360\n",
              "6  Afghanistan       Asia  1982               39.854   12881816  978.011439\n",
              "7  Afghanistan       Asia  1987               40.822   13867957  852.395945\n",
              "8  Afghanistan       Asia  1992               41.674   16317921  649.341395\n",
              "9  Afghanistan       Asia  1997               41.763   22227415  635.341351"
            ]
          },
          "metadata": {
            "tags": []
          },
          "execution_count": 12
        }
      ]
    },
    {
      "cell_type": "code",
      "metadata": {
        "colab": {
          "base_uri": "https://localhost:8080/"
        },
        "id": "oiJa-BF9VzZY",
        "outputId": "fa66bf77-9da5-423a-87c6-1fd304492ff7"
      },
      "source": [
        "#Total de linhas e colunas\n",
        "df.shape"
      ],
      "execution_count": 13,
      "outputs": [
        {
          "output_type": "execute_result",
          "data": {
            "text/plain": [
              "(3312, 6)"
            ]
          },
          "metadata": {
            "tags": []
          },
          "execution_count": 13
        }
      ]
    },
    {
      "cell_type": "code",
      "metadata": {
        "colab": {
          "base_uri": "https://localhost:8080/"
        },
        "id": "LxFfgv6iV-Yz",
        "outputId": "65d8c810-3750-431e-b620-08344cfd6939"
      },
      "source": [
        "#Identifica as colunas\n",
        "df.columns"
      ],
      "execution_count": 14,
      "outputs": [
        {
          "output_type": "execute_result",
          "data": {
            "text/plain": [
              "Index(['Pais', 'continente', 'Ano', 'Expectativa_de_vida', 'Pop Total', 'PIB'], dtype='object')"
            ]
          },
          "metadata": {
            "tags": []
          },
          "execution_count": 14
        }
      ]
    },
    {
      "cell_type": "code",
      "metadata": {
        "colab": {
          "base_uri": "https://localhost:8080/"
        },
        "id": "-NdPweu-WSxU",
        "outputId": "1c6157c4-d089-4a5f-f313-432cd4e50d4e"
      },
      "source": [
        "#Mostra o tipo de dados em cada coluna\n",
        "#Object equivale a String\n",
        "df.dtypes"
      ],
      "execution_count": 15,
      "outputs": [
        {
          "output_type": "execute_result",
          "data": {
            "text/plain": [
              "Pais                    object\n",
              "continente              object\n",
              "Ano                      int64\n",
              "Expectativa_de_vida    float64\n",
              "Pop Total                int64\n",
              "PIB                    float64\n",
              "dtype: object"
            ]
          },
          "metadata": {
            "tags": []
          },
          "execution_count": 15
        }
      ]
    },
    {
      "cell_type": "code",
      "metadata": {
        "colab": {
          "base_uri": "https://localhost:8080/",
          "height": 514
        },
        "id": "JrLpnDziWsKK",
        "outputId": "1fad6380-e7d7-46ce-d49b-b96aa9b987ae"
      },
      "source": [
        "#Restorna as ultimas linhas\n",
        "df.tail(15)"
      ],
      "execution_count": 17,
      "outputs": [
        {
          "output_type": "execute_result",
          "data": {
            "text/html": [
              "<div>\n",
              "<style scoped>\n",
              "    .dataframe tbody tr th:only-of-type {\n",
              "        vertical-align: middle;\n",
              "    }\n",
              "\n",
              "    .dataframe tbody tr th {\n",
              "        vertical-align: top;\n",
              "    }\n",
              "\n",
              "    .dataframe thead th {\n",
              "        text-align: right;\n",
              "    }\n",
              "</style>\n",
              "<table border=\"1\" class=\"dataframe\">\n",
              "  <thead>\n",
              "    <tr style=\"text-align: right;\">\n",
              "      <th></th>\n",
              "      <th>Pais</th>\n",
              "      <th>continente</th>\n",
              "      <th>Ano</th>\n",
              "      <th>Expectativa_de_vida</th>\n",
              "      <th>Pop Total</th>\n",
              "      <th>PIB</th>\n",
              "    </tr>\n",
              "  </thead>\n",
              "  <tbody>\n",
              "    <tr>\n",
              "      <th>3297</th>\n",
              "      <td>Zambia</td>\n",
              "      <td>Africa</td>\n",
              "      <td>1997</td>\n",
              "      <td>40.238</td>\n",
              "      <td>9417789</td>\n",
              "      <td>1071.353818</td>\n",
              "    </tr>\n",
              "    <tr>\n",
              "      <th>3298</th>\n",
              "      <td>Zambia</td>\n",
              "      <td>Africa</td>\n",
              "      <td>2002</td>\n",
              "      <td>39.193</td>\n",
              "      <td>10595811</td>\n",
              "      <td>1071.613938</td>\n",
              "    </tr>\n",
              "    <tr>\n",
              "      <th>3299</th>\n",
              "      <td>Zambia</td>\n",
              "      <td>Africa</td>\n",
              "      <td>2007</td>\n",
              "      <td>42.384</td>\n",
              "      <td>11746035</td>\n",
              "      <td>1271.211593</td>\n",
              "    </tr>\n",
              "    <tr>\n",
              "      <th>3300</th>\n",
              "      <td>Zimbabwe</td>\n",
              "      <td>Africa</td>\n",
              "      <td>1952</td>\n",
              "      <td>48.451</td>\n",
              "      <td>3080907</td>\n",
              "      <td>406.884115</td>\n",
              "    </tr>\n",
              "    <tr>\n",
              "      <th>3301</th>\n",
              "      <td>Zimbabwe</td>\n",
              "      <td>Africa</td>\n",
              "      <td>1957</td>\n",
              "      <td>50.469</td>\n",
              "      <td>3646340</td>\n",
              "      <td>518.764268</td>\n",
              "    </tr>\n",
              "    <tr>\n",
              "      <th>3302</th>\n",
              "      <td>Zimbabwe</td>\n",
              "      <td>Africa</td>\n",
              "      <td>1962</td>\n",
              "      <td>52.358</td>\n",
              "      <td>4277736</td>\n",
              "      <td>527.272182</td>\n",
              "    </tr>\n",
              "    <tr>\n",
              "      <th>3303</th>\n",
              "      <td>Zimbabwe</td>\n",
              "      <td>Africa</td>\n",
              "      <td>1967</td>\n",
              "      <td>53.995</td>\n",
              "      <td>4995432</td>\n",
              "      <td>569.795071</td>\n",
              "    </tr>\n",
              "    <tr>\n",
              "      <th>3304</th>\n",
              "      <td>Zimbabwe</td>\n",
              "      <td>Africa</td>\n",
              "      <td>1972</td>\n",
              "      <td>55.635</td>\n",
              "      <td>5861135</td>\n",
              "      <td>799.362176</td>\n",
              "    </tr>\n",
              "    <tr>\n",
              "      <th>3305</th>\n",
              "      <td>Zimbabwe</td>\n",
              "      <td>Africa</td>\n",
              "      <td>1977</td>\n",
              "      <td>57.674</td>\n",
              "      <td>6642107</td>\n",
              "      <td>685.587682</td>\n",
              "    </tr>\n",
              "    <tr>\n",
              "      <th>3306</th>\n",
              "      <td>Zimbabwe</td>\n",
              "      <td>Africa</td>\n",
              "      <td>1982</td>\n",
              "      <td>60.363</td>\n",
              "      <td>7636524</td>\n",
              "      <td>788.855041</td>\n",
              "    </tr>\n",
              "    <tr>\n",
              "      <th>3307</th>\n",
              "      <td>Zimbabwe</td>\n",
              "      <td>Africa</td>\n",
              "      <td>1987</td>\n",
              "      <td>62.351</td>\n",
              "      <td>9216418</td>\n",
              "      <td>706.157306</td>\n",
              "    </tr>\n",
              "    <tr>\n",
              "      <th>3308</th>\n",
              "      <td>Zimbabwe</td>\n",
              "      <td>Africa</td>\n",
              "      <td>1992</td>\n",
              "      <td>60.377</td>\n",
              "      <td>10704340</td>\n",
              "      <td>693.420786</td>\n",
              "    </tr>\n",
              "    <tr>\n",
              "      <th>3309</th>\n",
              "      <td>Zimbabwe</td>\n",
              "      <td>Africa</td>\n",
              "      <td>1997</td>\n",
              "      <td>46.809</td>\n",
              "      <td>11404948</td>\n",
              "      <td>792.449960</td>\n",
              "    </tr>\n",
              "    <tr>\n",
              "      <th>3310</th>\n",
              "      <td>Zimbabwe</td>\n",
              "      <td>Africa</td>\n",
              "      <td>2002</td>\n",
              "      <td>39.989</td>\n",
              "      <td>11926563</td>\n",
              "      <td>672.038623</td>\n",
              "    </tr>\n",
              "    <tr>\n",
              "      <th>3311</th>\n",
              "      <td>Zimbabwe</td>\n",
              "      <td>Africa</td>\n",
              "      <td>2007</td>\n",
              "      <td>43.487</td>\n",
              "      <td>12311143</td>\n",
              "      <td>469.709298</td>\n",
              "    </tr>\n",
              "  </tbody>\n",
              "</table>\n",
              "</div>"
            ],
            "text/plain": [
              "          Pais continente   Ano  Expectativa_de_vida  Pop Total          PIB\n",
              "3297    Zambia     Africa  1997               40.238    9417789  1071.353818\n",
              "3298    Zambia     Africa  2002               39.193   10595811  1071.613938\n",
              "3299    Zambia     Africa  2007               42.384   11746035  1271.211593\n",
              "3300  Zimbabwe     Africa  1952               48.451    3080907   406.884115\n",
              "3301  Zimbabwe     Africa  1957               50.469    3646340   518.764268\n",
              "3302  Zimbabwe     Africa  1962               52.358    4277736   527.272182\n",
              "3303  Zimbabwe     Africa  1967               53.995    4995432   569.795071\n",
              "3304  Zimbabwe     Africa  1972               55.635    5861135   799.362176\n",
              "3305  Zimbabwe     Africa  1977               57.674    6642107   685.587682\n",
              "3306  Zimbabwe     Africa  1982               60.363    7636524   788.855041\n",
              "3307  Zimbabwe     Africa  1987               62.351    9216418   706.157306\n",
              "3308  Zimbabwe     Africa  1992               60.377   10704340   693.420786\n",
              "3309  Zimbabwe     Africa  1997               46.809   11404948   792.449960\n",
              "3310  Zimbabwe     Africa  2002               39.989   11926563   672.038623\n",
              "3311  Zimbabwe     Africa  2007               43.487   12311143   469.709298"
            ]
          },
          "metadata": {
            "tags": []
          },
          "execution_count": 17
        }
      ]
    },
    {
      "cell_type": "code",
      "metadata": {
        "colab": {
          "base_uri": "https://localhost:8080/",
          "height": 297
        },
        "id": "lhV3WxEgW3ES",
        "outputId": "7e965da8-f507-477b-a88e-1a9f6b6acf3f"
      },
      "source": [
        "#Retorna informações estatisticas do conjunto dedados\n",
        "df.describe()"
      ],
      "execution_count": 19,
      "outputs": [
        {
          "output_type": "execute_result",
          "data": {
            "text/html": [
              "<div>\n",
              "<style scoped>\n",
              "    .dataframe tbody tr th:only-of-type {\n",
              "        vertical-align: middle;\n",
              "    }\n",
              "\n",
              "    .dataframe tbody tr th {\n",
              "        vertical-align: top;\n",
              "    }\n",
              "\n",
              "    .dataframe thead th {\n",
              "        text-align: right;\n",
              "    }\n",
              "</style>\n",
              "<table border=\"1\" class=\"dataframe\">\n",
              "  <thead>\n",
              "    <tr style=\"text-align: right;\">\n",
              "      <th></th>\n",
              "      <th>Ano</th>\n",
              "      <th>Expectativa_de_vida</th>\n",
              "      <th>Pop Total</th>\n",
              "      <th>PIB</th>\n",
              "    </tr>\n",
              "  </thead>\n",
              "  <tbody>\n",
              "    <tr>\n",
              "      <th>count</th>\n",
              "      <td>3312.000000</td>\n",
              "      <td>3312.000000</td>\n",
              "      <td>3.312000e+03</td>\n",
              "      <td>3312.000000</td>\n",
              "    </tr>\n",
              "    <tr>\n",
              "      <th>mean</th>\n",
              "      <td>1980.301630</td>\n",
              "      <td>65.246871</td>\n",
              "      <td>3.161489e+07</td>\n",
              "      <td>11317.115805</td>\n",
              "    </tr>\n",
              "    <tr>\n",
              "      <th>std</th>\n",
              "      <td>16.927294</td>\n",
              "      <td>11.768412</td>\n",
              "      <td>1.041193e+08</td>\n",
              "      <td>11369.142739</td>\n",
              "    </tr>\n",
              "    <tr>\n",
              "      <th>min</th>\n",
              "      <td>1950.000000</td>\n",
              "      <td>23.599000</td>\n",
              "      <td>5.941200e+04</td>\n",
              "      <td>241.165877</td>\n",
              "    </tr>\n",
              "    <tr>\n",
              "      <th>25%</th>\n",
              "      <td>1967.000000</td>\n",
              "      <td>58.337500</td>\n",
              "      <td>2.678572e+06</td>\n",
              "      <td>2514.625266</td>\n",
              "    </tr>\n",
              "    <tr>\n",
              "      <th>50%</th>\n",
              "      <td>1982.000000</td>\n",
              "      <td>69.610000</td>\n",
              "      <td>7.557218e+06</td>\n",
              "      <td>7838.505123</td>\n",
              "    </tr>\n",
              "    <tr>\n",
              "      <th>75%</th>\n",
              "      <td>1996.000000</td>\n",
              "      <td>73.657750</td>\n",
              "      <td>1.958522e+07</td>\n",
              "      <td>17357.879170</td>\n",
              "    </tr>\n",
              "    <tr>\n",
              "      <th>max</th>\n",
              "      <td>2007.000000</td>\n",
              "      <td>82.670000</td>\n",
              "      <td>1.318683e+09</td>\n",
              "      <td>113523.132900</td>\n",
              "    </tr>\n",
              "  </tbody>\n",
              "</table>\n",
              "</div>"
            ],
            "text/plain": [
              "               Ano  Expectativa_de_vida     Pop Total            PIB\n",
              "count  3312.000000          3312.000000  3.312000e+03    3312.000000\n",
              "mean   1980.301630            65.246871  3.161489e+07   11317.115805\n",
              "std      16.927294            11.768412  1.041193e+08   11369.142739\n",
              "min    1950.000000            23.599000  5.941200e+04     241.165877\n",
              "25%    1967.000000            58.337500  2.678572e+06    2514.625266\n",
              "50%    1982.000000            69.610000  7.557218e+06    7838.505123\n",
              "75%    1996.000000            73.657750  1.958522e+07   17357.879170\n",
              "max    2007.000000            82.670000  1.318683e+09  113523.132900"
            ]
          },
          "metadata": {
            "tags": []
          },
          "execution_count": 19
        }
      ]
    },
    {
      "cell_type": "code",
      "metadata": {
        "colab": {
          "base_uri": "https://localhost:8080/"
        },
        "id": "cs82AV5NXbWL",
        "outputId": "c5049207-4f80-4481-d524-d8a52e492958"
      },
      "source": [
        "#Filtrando Conjunto de dados\n",
        "df[\"continente\"].unique()"
      ],
      "execution_count": 20,
      "outputs": [
        {
          "output_type": "execute_result",
          "data": {
            "text/plain": [
              "array(['Asia', 'Europe', 'Africa', 'Americas', nan, 'FSU', 'Oceania'],\n",
              "      dtype=object)"
            ]
          },
          "metadata": {
            "tags": []
          },
          "execution_count": 20
        }
      ]
    },
    {
      "cell_type": "code",
      "metadata": {
        "colab": {
          "base_uri": "https://localhost:8080/",
          "height": 204
        },
        "id": "yPNm8Cb8Xs_v",
        "outputId": "99f55f99-7125-41bf-dc8d-3520f899ed38"
      },
      "source": [
        "Oceania = df.loc[df[\"continente\"] == \"Oceania\"]\n",
        "Oceania.head()"
      ],
      "execution_count": 21,
      "outputs": [
        {
          "output_type": "execute_result",
          "data": {
            "text/html": [
              "<div>\n",
              "<style scoped>\n",
              "    .dataframe tbody tr th:only-of-type {\n",
              "        vertical-align: middle;\n",
              "    }\n",
              "\n",
              "    .dataframe tbody tr th {\n",
              "        vertical-align: top;\n",
              "    }\n",
              "\n",
              "    .dataframe thead th {\n",
              "        text-align: right;\n",
              "    }\n",
              "</style>\n",
              "<table border=\"1\" class=\"dataframe\">\n",
              "  <thead>\n",
              "    <tr style=\"text-align: right;\">\n",
              "      <th></th>\n",
              "      <th>Pais</th>\n",
              "      <th>continente</th>\n",
              "      <th>Ano</th>\n",
              "      <th>Expectativa_de_vida</th>\n",
              "      <th>Pop Total</th>\n",
              "      <th>PIB</th>\n",
              "    </tr>\n",
              "  </thead>\n",
              "  <tbody>\n",
              "    <tr>\n",
              "      <th>975</th>\n",
              "      <td>Fiji</td>\n",
              "      <td>Oceania</td>\n",
              "      <td>1962</td>\n",
              "      <td>56.494</td>\n",
              "      <td>421869</td>\n",
              "      <td>2039.393277</td>\n",
              "    </tr>\n",
              "    <tr>\n",
              "      <th>976</th>\n",
              "      <td>Fiji</td>\n",
              "      <td>Oceania</td>\n",
              "      <td>1967</td>\n",
              "      <td>58.607</td>\n",
              "      <td>485000</td>\n",
              "      <td>2170.073285</td>\n",
              "    </tr>\n",
              "    <tr>\n",
              "      <th>977</th>\n",
              "      <td>Fiji</td>\n",
              "      <td>Oceania</td>\n",
              "      <td>1972</td>\n",
              "      <td>60.642</td>\n",
              "      <td>544000</td>\n",
              "      <td>2797.759484</td>\n",
              "    </tr>\n",
              "    <tr>\n",
              "      <th>978</th>\n",
              "      <td>Fiji</td>\n",
              "      <td>Oceania</td>\n",
              "      <td>1977</td>\n",
              "      <td>62.669</td>\n",
              "      <td>599339</td>\n",
              "      <td>3182.569600</td>\n",
              "    </tr>\n",
              "    <tr>\n",
              "      <th>979</th>\n",
              "      <td>Fiji</td>\n",
              "      <td>Oceania</td>\n",
              "      <td>1982</td>\n",
              "      <td>64.683</td>\n",
              "      <td>658906</td>\n",
              "      <td>3209.257468</td>\n",
              "    </tr>\n",
              "  </tbody>\n",
              "</table>\n",
              "</div>"
            ],
            "text/plain": [
              "     Pais continente   Ano  Expectativa_de_vida  Pop Total          PIB\n",
              "975  Fiji    Oceania  1962               56.494     421869  2039.393277\n",
              "976  Fiji    Oceania  1967               58.607     485000  2170.073285\n",
              "977  Fiji    Oceania  1972               60.642     544000  2797.759484\n",
              "978  Fiji    Oceania  1977               62.669     599339  3182.569600\n",
              "979  Fiji    Oceania  1982               64.683     658906  3209.257468"
            ]
          },
          "metadata": {
            "tags": []
          },
          "execution_count": 21
        }
      ]
    },
    {
      "cell_type": "code",
      "metadata": {
        "colab": {
          "base_uri": "https://localhost:8080/"
        },
        "id": "LPWdAYqSYWv3",
        "outputId": "21da0e5a-3193-4cbc-e13c-8f95dded3c33"
      },
      "source": [
        "#Agrupamento de dados com o groupby\n",
        "df.groupby(\"continente\")[\"Pais\"].nunique()"
      ],
      "execution_count": 23,
      "outputs": [
        {
          "output_type": "execute_result",
          "data": {
            "text/plain": [
              "continente\n",
              "Africa      51\n",
              "Americas    25\n",
              "Asia        41\n",
              "Europe      35\n",
              "FSU          6\n",
              "Oceania      3\n",
              "Name: Pais, dtype: int64"
            ]
          },
          "metadata": {
            "tags": []
          },
          "execution_count": 23
        }
      ]
    },
    {
      "cell_type": "code",
      "metadata": {
        "colab": {
          "base_uri": "https://localhost:8080/"
        },
        "id": "fH9tRmE2ZJEV",
        "outputId": "28d572db-4d71-44ed-d924-729feea8ffdc"
      },
      "source": [
        "df.groupby(\"Ano\")[\"Expectativa_de_vida\"].mean()"
      ],
      "execution_count": 24,
      "outputs": [
        {
          "output_type": "execute_result",
          "data": {
            "text/plain": [
              "Ano\n",
              "1950    62.002568\n",
              "1951    65.904167\n",
              "1952    49.206867\n",
              "1953    66.674563\n",
              "1954    67.459817\n",
              "1955    67.806757\n",
              "1956    67.950637\n",
              "1957    51.614590\n",
              "1958    68.815936\n",
              "1959    68.226579\n",
              "1960    68.470837\n",
              "1961    68.862480\n",
              "1962    54.035234\n",
              "1963    69.595735\n",
              "1964    70.063105\n",
              "1965    70.259881\n",
              "1966    70.447526\n",
              "1967    56.263629\n",
              "1968    70.689081\n",
              "1969    70.653896\n",
              "1970    70.961141\n",
              "1971    71.103976\n",
              "1972    58.474481\n",
              "1973    71.500338\n",
              "1974    71.778504\n",
              "1975    71.939218\n",
              "1976    72.158050\n",
              "1977    60.429090\n",
              "1978    72.717567\n",
              "1979    73.018717\n",
              "1980    73.064524\n",
              "1981    73.337399\n",
              "1982    62.365871\n",
              "1983    73.787778\n",
              "1984    74.100741\n",
              "1985    74.112222\n",
              "1986    74.452222\n",
              "1987    63.984860\n",
              "1988    74.760000\n",
              "1989    74.924444\n",
              "1990    74.283437\n",
              "1991    74.374848\n",
              "1992    65.008443\n",
              "1993    74.324545\n",
              "1994    74.456667\n",
              "1995    74.552727\n",
              "1996    75.029394\n",
              "1997    65.873799\n",
              "1998    75.569697\n",
              "1999    75.703636\n",
              "2000    76.026364\n",
              "2001    76.257879\n",
              "2002    66.835695\n",
              "2003    76.586667\n",
              "2004    76.921563\n",
              "2005    76.718667\n",
              "2006    77.887778\n",
              "2007    67.868557\n",
              "Name: Expectativa_de_vida, dtype: float64"
            ]
          },
          "metadata": {
            "tags": []
          },
          "execution_count": 24
        }
      ]
    },
    {
      "cell_type": "code",
      "metadata": {
        "colab": {
          "base_uri": "https://localhost:8080/"
        },
        "id": "m4GiijUZZdSv",
        "outputId": "51fdada8-583c-48e0-e8ed-9cb3a7a84b9d"
      },
      "source": [
        "df[\"PIB\"].mean()"
      ],
      "execution_count": 25,
      "outputs": [
        {
          "output_type": "execute_result",
          "data": {
            "text/plain": [
              "11317.115804696637"
            ]
          },
          "metadata": {
            "tags": []
          },
          "execution_count": 25
        }
      ]
    },
    {
      "cell_type": "code",
      "metadata": {
        "colab": {
          "base_uri": "https://localhost:8080/"
        },
        "id": "RZnmTFboZnbL",
        "outputId": "2e37f4f7-e27b-4231-9685-0e2e45ea11d1"
      },
      "source": [
        "df[\"PIB\"].sum()"
      ],
      "execution_count": 26,
      "outputs": [
        {
          "output_type": "execute_result",
          "data": {
            "text/plain": [
              "37482287.5451553"
            ]
          },
          "metadata": {
            "tags": []
          },
          "execution_count": 26
        }
      ]
    },
    {
      "cell_type": "markdown",
      "metadata": {
        "id": "zB7shueXc9gL"
      },
      "source": [
        "#**Trabalhando com Planilhas do Excel**"
      ]
    },
    {
      "cell_type": "code",
      "metadata": {
        "id": "3j8axvZDdGHr"
      },
      "source": [
        "#Importando a biblioteca\n",
        "#import pandas as pd"
      ],
      "execution_count": null,
      "outputs": []
    },
    {
      "cell_type": "code",
      "metadata": {
        "id": "3qNHucHNdO6I"
      },
      "source": [
        "#Leitura de arquivos\n",
        "df1 = pd.read_excel(\"Aracaju.xlsx\")\n",
        "df2 = pd.read_excel(\"Fortaleza.xlsx\")\n",
        "df3 = pd.read_excel(\"Natal.xlsx\")\n",
        "df4 = pd.read_excel(\"Recife.xlsx\")\n",
        "df5 = pd.read_excel(\"Salvador.xlsx\")"
      ],
      "execution_count": 27,
      "outputs": []
    },
    {
      "cell_type": "code",
      "metadata": {
        "colab": {
          "base_uri": "https://localhost:8080/",
          "height": 204
        },
        "id": "V3ZPXihXeQBV",
        "outputId": "83bde7df-ec52-4021-88ad-30d5040c267f"
      },
      "source": [
        "df5.head()"
      ],
      "execution_count": 32,
      "outputs": [
        {
          "output_type": "execute_result",
          "data": {
            "text/html": [
              "<div>\n",
              "<style scoped>\n",
              "    .dataframe tbody tr th:only-of-type {\n",
              "        vertical-align: middle;\n",
              "    }\n",
              "\n",
              "    .dataframe tbody tr th {\n",
              "        vertical-align: top;\n",
              "    }\n",
              "\n",
              "    .dataframe thead th {\n",
              "        text-align: right;\n",
              "    }\n",
              "</style>\n",
              "<table border=\"1\" class=\"dataframe\">\n",
              "  <thead>\n",
              "    <tr style=\"text-align: right;\">\n",
              "      <th></th>\n",
              "      <th>Cidade</th>\n",
              "      <th>Data</th>\n",
              "      <th>Vendas</th>\n",
              "      <th>LojaID</th>\n",
              "      <th>Qtde</th>\n",
              "    </tr>\n",
              "  </thead>\n",
              "  <tbody>\n",
              "    <tr>\n",
              "      <th>0</th>\n",
              "      <td>Salvador</td>\n",
              "      <td>2018-01-01</td>\n",
              "      <td>31.06</td>\n",
              "      <td>1037</td>\n",
              "      <td>3</td>\n",
              "    </tr>\n",
              "    <tr>\n",
              "      <th>1</th>\n",
              "      <td>Salvador</td>\n",
              "      <td>2018-01-01</td>\n",
              "      <td>19.02</td>\n",
              "      <td>1034</td>\n",
              "      <td>3</td>\n",
              "    </tr>\n",
              "    <tr>\n",
              "      <th>2</th>\n",
              "      <td>Salvador</td>\n",
              "      <td>2019-02-10</td>\n",
              "      <td>173.59</td>\n",
              "      <td>1035</td>\n",
              "      <td>3</td>\n",
              "    </tr>\n",
              "    <tr>\n",
              "      <th>3</th>\n",
              "      <td>Salvador</td>\n",
              "      <td>2019-02-10</td>\n",
              "      <td>176.34</td>\n",
              "      <td>1037</td>\n",
              "      <td>3</td>\n",
              "    </tr>\n",
              "    <tr>\n",
              "      <th>4</th>\n",
              "      <td>Salvador</td>\n",
              "      <td>2019-02-14</td>\n",
              "      <td>19.47</td>\n",
              "      <td>1037</td>\n",
              "      <td>3</td>\n",
              "    </tr>\n",
              "  </tbody>\n",
              "</table>\n",
              "</div>"
            ],
            "text/plain": [
              "     Cidade       Data  Vendas  LojaID  Qtde\n",
              "0  Salvador 2018-01-01   31.06    1037     3\n",
              "1  Salvador 2018-01-01   19.02    1034     3\n",
              "2  Salvador 2019-02-10  173.59    1035     3\n",
              "3  Salvador 2019-02-10  176.34    1037     3\n",
              "4  Salvador 2019-02-14   19.47    1037     3"
            ]
          },
          "metadata": {
            "tags": []
          },
          "execution_count": 32
        }
      ]
    },
    {
      "cell_type": "code",
      "metadata": {
        "id": "o0HvyfUEeK0o"
      },
      "source": [
        "#Juntando todos os arquivos\n",
        "df = pd.concat([df1,df2,df3,df4,df5])"
      ],
      "execution_count": 33,
      "outputs": []
    },
    {
      "cell_type": "code",
      "metadata": {
        "colab": {
          "base_uri": "https://localhost:8080/",
          "height": 204
        },
        "id": "wWwq1nXWetG1",
        "outputId": "2ea7f04f-117d-4740-e2b0-11c87d67fe61"
      },
      "source": [
        "df.head()"
      ],
      "execution_count": 34,
      "outputs": [
        {
          "output_type": "execute_result",
          "data": {
            "text/html": [
              "<div>\n",
              "<style scoped>\n",
              "    .dataframe tbody tr th:only-of-type {\n",
              "        vertical-align: middle;\n",
              "    }\n",
              "\n",
              "    .dataframe tbody tr th {\n",
              "        vertical-align: top;\n",
              "    }\n",
              "\n",
              "    .dataframe thead th {\n",
              "        text-align: right;\n",
              "    }\n",
              "</style>\n",
              "<table border=\"1\" class=\"dataframe\">\n",
              "  <thead>\n",
              "    <tr style=\"text-align: right;\">\n",
              "      <th></th>\n",
              "      <th>Cidade</th>\n",
              "      <th>Data</th>\n",
              "      <th>Vendas</th>\n",
              "      <th>LojaID</th>\n",
              "      <th>Qtde</th>\n",
              "    </tr>\n",
              "  </thead>\n",
              "  <tbody>\n",
              "    <tr>\n",
              "      <th>0</th>\n",
              "      <td>Aracaju</td>\n",
              "      <td>2018-01-01</td>\n",
              "      <td>142.00</td>\n",
              "      <td>1520</td>\n",
              "      <td>1</td>\n",
              "    </tr>\n",
              "    <tr>\n",
              "      <th>1</th>\n",
              "      <td>Aracaju</td>\n",
              "      <td>2018-01-01</td>\n",
              "      <td>14.21</td>\n",
              "      <td>1522</td>\n",
              "      <td>6</td>\n",
              "    </tr>\n",
              "    <tr>\n",
              "      <th>2</th>\n",
              "      <td>Aracaju</td>\n",
              "      <td>2018-01-01</td>\n",
              "      <td>71.55</td>\n",
              "      <td>1520</td>\n",
              "      <td>1</td>\n",
              "    </tr>\n",
              "    <tr>\n",
              "      <th>3</th>\n",
              "      <td>Aracaju</td>\n",
              "      <td>2018-01-01</td>\n",
              "      <td>3.01</td>\n",
              "      <td>1521</td>\n",
              "      <td>7</td>\n",
              "    </tr>\n",
              "    <tr>\n",
              "      <th>4</th>\n",
              "      <td>Aracaju</td>\n",
              "      <td>2018-01-01</td>\n",
              "      <td>24.51</td>\n",
              "      <td>1522</td>\n",
              "      <td>8</td>\n",
              "    </tr>\n",
              "  </tbody>\n",
              "</table>\n",
              "</div>"
            ],
            "text/plain": [
              "    Cidade       Data  Vendas  LojaID  Qtde\n",
              "0  Aracaju 2018-01-01  142.00    1520     1\n",
              "1  Aracaju 2018-01-01   14.21    1522     6\n",
              "2  Aracaju 2018-01-01   71.55    1520     1\n",
              "3  Aracaju 2018-01-01    3.01    1521     7\n",
              "4  Aracaju 2018-01-01   24.51    1522     8"
            ]
          },
          "metadata": {
            "tags": []
          },
          "execution_count": 34
        }
      ]
    },
    {
      "cell_type": "code",
      "metadata": {
        "colab": {
          "base_uri": "https://localhost:8080/",
          "height": 204
        },
        "id": "HzDgOaJ_ewzw",
        "outputId": "b5bf1515-efbf-47ec-b3d7-304c667db392"
      },
      "source": [
        "df.tail()"
      ],
      "execution_count": 35,
      "outputs": [
        {
          "output_type": "execute_result",
          "data": {
            "text/html": [
              "<div>\n",
              "<style scoped>\n",
              "    .dataframe tbody tr th:only-of-type {\n",
              "        vertical-align: middle;\n",
              "    }\n",
              "\n",
              "    .dataframe tbody tr th {\n",
              "        vertical-align: top;\n",
              "    }\n",
              "\n",
              "    .dataframe thead th {\n",
              "        text-align: right;\n",
              "    }\n",
              "</style>\n",
              "<table border=\"1\" class=\"dataframe\">\n",
              "  <thead>\n",
              "    <tr style=\"text-align: right;\">\n",
              "      <th></th>\n",
              "      <th>Cidade</th>\n",
              "      <th>Data</th>\n",
              "      <th>Vendas</th>\n",
              "      <th>LojaID</th>\n",
              "      <th>Qtde</th>\n",
              "    </tr>\n",
              "  </thead>\n",
              "  <tbody>\n",
              "    <tr>\n",
              "      <th>235</th>\n",
              "      <td>Salvador</td>\n",
              "      <td>2019-01-03</td>\n",
              "      <td>41.84</td>\n",
              "      <td>1034</td>\n",
              "      <td>1</td>\n",
              "    </tr>\n",
              "    <tr>\n",
              "      <th>236</th>\n",
              "      <td>Salvador</td>\n",
              "      <td>2019-01-03</td>\n",
              "      <td>126.29</td>\n",
              "      <td>1035</td>\n",
              "      <td>3</td>\n",
              "    </tr>\n",
              "    <tr>\n",
              "      <th>237</th>\n",
              "      <td>Salvador</td>\n",
              "      <td>2019-01-03</td>\n",
              "      <td>38.06</td>\n",
              "      <td>1036</td>\n",
              "      <td>3</td>\n",
              "    </tr>\n",
              "    <tr>\n",
              "      <th>238</th>\n",
              "      <td>Salvador</td>\n",
              "      <td>2019-01-03</td>\n",
              "      <td>139.64</td>\n",
              "      <td>1035</td>\n",
              "      <td>1</td>\n",
              "    </tr>\n",
              "    <tr>\n",
              "      <th>239</th>\n",
              "      <td>Salvador</td>\n",
              "      <td>2019-01-03</td>\n",
              "      <td>161.41</td>\n",
              "      <td>1037</td>\n",
              "      <td>3</td>\n",
              "    </tr>\n",
              "  </tbody>\n",
              "</table>\n",
              "</div>"
            ],
            "text/plain": [
              "       Cidade       Data  Vendas  LojaID  Qtde\n",
              "235  Salvador 2019-01-03   41.84    1034     1\n",
              "236  Salvador 2019-01-03  126.29    1035     3\n",
              "237  Salvador 2019-01-03   38.06    1036     3\n",
              "238  Salvador 2019-01-03  139.64    1035     1\n",
              "239  Salvador 2019-01-03  161.41    1037     3"
            ]
          },
          "metadata": {
            "tags": []
          },
          "execution_count": 35
        }
      ]
    },
    {
      "cell_type": "code",
      "metadata": {
        "colab": {
          "base_uri": "https://localhost:8080/",
          "height": 204
        },
        "id": "BTXrTtz9e03X",
        "outputId": "41d8f63d-931a-4b2a-a18c-d6772f9696df"
      },
      "source": [
        "df.sample(5)"
      ],
      "execution_count": 36,
      "outputs": [
        {
          "output_type": "execute_result",
          "data": {
            "text/html": [
              "<div>\n",
              "<style scoped>\n",
              "    .dataframe tbody tr th:only-of-type {\n",
              "        vertical-align: middle;\n",
              "    }\n",
              "\n",
              "    .dataframe tbody tr th {\n",
              "        vertical-align: top;\n",
              "    }\n",
              "\n",
              "    .dataframe thead th {\n",
              "        text-align: right;\n",
              "    }\n",
              "</style>\n",
              "<table border=\"1\" class=\"dataframe\">\n",
              "  <thead>\n",
              "    <tr style=\"text-align: right;\">\n",
              "      <th></th>\n",
              "      <th>Cidade</th>\n",
              "      <th>Data</th>\n",
              "      <th>Vendas</th>\n",
              "      <th>LojaID</th>\n",
              "      <th>Qtde</th>\n",
              "    </tr>\n",
              "  </thead>\n",
              "  <tbody>\n",
              "    <tr>\n",
              "      <th>29</th>\n",
              "      <td>Recife</td>\n",
              "      <td>2019-01-01</td>\n",
              "      <td>10.18</td>\n",
              "      <td>980</td>\n",
              "      <td>8</td>\n",
              "    </tr>\n",
              "    <tr>\n",
              "      <th>23</th>\n",
              "      <td>Fortaleza</td>\n",
              "      <td>2019-01-01</td>\n",
              "      <td>85.90</td>\n",
              "      <td>1004</td>\n",
              "      <td>5</td>\n",
              "    </tr>\n",
              "    <tr>\n",
              "      <th>232</th>\n",
              "      <td>Natal</td>\n",
              "      <td>2019-01-03</td>\n",
              "      <td>167.76</td>\n",
              "      <td>1034</td>\n",
              "      <td>3</td>\n",
              "    </tr>\n",
              "    <tr>\n",
              "      <th>206</th>\n",
              "      <td>Salvador</td>\n",
              "      <td>2019-01-02</td>\n",
              "      <td>151.45</td>\n",
              "      <td>1036</td>\n",
              "      <td>2</td>\n",
              "    </tr>\n",
              "    <tr>\n",
              "      <th>76</th>\n",
              "      <td>Fortaleza</td>\n",
              "      <td>2019-01-01</td>\n",
              "      <td>38.61</td>\n",
              "      <td>1004</td>\n",
              "      <td>4</td>\n",
              "    </tr>\n",
              "  </tbody>\n",
              "</table>\n",
              "</div>"
            ],
            "text/plain": [
              "        Cidade       Data  Vendas  LojaID  Qtde\n",
              "29      Recife 2019-01-01   10.18     980     8\n",
              "23   Fortaleza 2019-01-01   85.90    1004     5\n",
              "232      Natal 2019-01-03  167.76    1034     3\n",
              "206   Salvador 2019-01-02  151.45    1036     2\n",
              "76   Fortaleza 2019-01-01   38.61    1004     4"
            ]
          },
          "metadata": {
            "tags": []
          },
          "execution_count": 36
        }
      ]
    },
    {
      "cell_type": "code",
      "metadata": {
        "colab": {
          "base_uri": "https://localhost:8080/"
        },
        "id": "Wd_5Iotve4_5",
        "outputId": "85390199-697d-44c6-863c-f98df8694065"
      },
      "source": [
        "df.dtypes"
      ],
      "execution_count": 37,
      "outputs": [
        {
          "output_type": "execute_result",
          "data": {
            "text/plain": [
              "Cidade            object\n",
              "Data      datetime64[ns]\n",
              "Vendas           float64\n",
              "LojaID             int64\n",
              "Qtde               int64\n",
              "dtype: object"
            ]
          },
          "metadata": {
            "tags": []
          },
          "execution_count": 37
        }
      ]
    },
    {
      "cell_type": "code",
      "metadata": {
        "id": "w9b3lluLe8wd"
      },
      "source": [
        "#Alterando o tipo de dado da coluna LojaID\n",
        "df[\"LojaID\"] = df[\"LojaID\"].astype(\"object\")"
      ],
      "execution_count": 38,
      "outputs": []
    },
    {
      "cell_type": "code",
      "metadata": {
        "colab": {
          "base_uri": "https://localhost:8080/"
        },
        "id": "71SKDKoWfOkn",
        "outputId": "8c9e0e5f-a78f-4858-cdea-a6ea4e411e0d"
      },
      "source": [
        "df.dtypes"
      ],
      "execution_count": 39,
      "outputs": [
        {
          "output_type": "execute_result",
          "data": {
            "text/plain": [
              "Cidade            object\n",
              "Data      datetime64[ns]\n",
              "Vendas           float64\n",
              "LojaID            object\n",
              "Qtde               int64\n",
              "dtype: object"
            ]
          },
          "metadata": {
            "tags": []
          },
          "execution_count": 39
        }
      ]
    },
    {
      "cell_type": "code",
      "metadata": {
        "colab": {
          "base_uri": "https://localhost:8080/",
          "height": 204
        },
        "id": "heHb0oflfRZ2",
        "outputId": "8516150a-38d0-41d1-f105-07cd9c97b823"
      },
      "source": [
        "df.head()"
      ],
      "execution_count": 40,
      "outputs": [
        {
          "output_type": "execute_result",
          "data": {
            "text/html": [
              "<div>\n",
              "<style scoped>\n",
              "    .dataframe tbody tr th:only-of-type {\n",
              "        vertical-align: middle;\n",
              "    }\n",
              "\n",
              "    .dataframe tbody tr th {\n",
              "        vertical-align: top;\n",
              "    }\n",
              "\n",
              "    .dataframe thead th {\n",
              "        text-align: right;\n",
              "    }\n",
              "</style>\n",
              "<table border=\"1\" class=\"dataframe\">\n",
              "  <thead>\n",
              "    <tr style=\"text-align: right;\">\n",
              "      <th></th>\n",
              "      <th>Cidade</th>\n",
              "      <th>Data</th>\n",
              "      <th>Vendas</th>\n",
              "      <th>LojaID</th>\n",
              "      <th>Qtde</th>\n",
              "    </tr>\n",
              "  </thead>\n",
              "  <tbody>\n",
              "    <tr>\n",
              "      <th>0</th>\n",
              "      <td>Aracaju</td>\n",
              "      <td>2018-01-01</td>\n",
              "      <td>142.00</td>\n",
              "      <td>1520</td>\n",
              "      <td>1</td>\n",
              "    </tr>\n",
              "    <tr>\n",
              "      <th>1</th>\n",
              "      <td>Aracaju</td>\n",
              "      <td>2018-01-01</td>\n",
              "      <td>14.21</td>\n",
              "      <td>1522</td>\n",
              "      <td>6</td>\n",
              "    </tr>\n",
              "    <tr>\n",
              "      <th>2</th>\n",
              "      <td>Aracaju</td>\n",
              "      <td>2018-01-01</td>\n",
              "      <td>71.55</td>\n",
              "      <td>1520</td>\n",
              "      <td>1</td>\n",
              "    </tr>\n",
              "    <tr>\n",
              "      <th>3</th>\n",
              "      <td>Aracaju</td>\n",
              "      <td>2018-01-01</td>\n",
              "      <td>3.01</td>\n",
              "      <td>1521</td>\n",
              "      <td>7</td>\n",
              "    </tr>\n",
              "    <tr>\n",
              "      <th>4</th>\n",
              "      <td>Aracaju</td>\n",
              "      <td>2018-01-01</td>\n",
              "      <td>24.51</td>\n",
              "      <td>1522</td>\n",
              "      <td>8</td>\n",
              "    </tr>\n",
              "  </tbody>\n",
              "</table>\n",
              "</div>"
            ],
            "text/plain": [
              "    Cidade       Data  Vendas LojaID  Qtde\n",
              "0  Aracaju 2018-01-01  142.00   1520     1\n",
              "1  Aracaju 2018-01-01   14.21   1522     6\n",
              "2  Aracaju 2018-01-01   71.55   1520     1\n",
              "3  Aracaju 2018-01-01    3.01   1521     7\n",
              "4  Aracaju 2018-01-01   24.51   1522     8"
            ]
          },
          "metadata": {
            "tags": []
          },
          "execution_count": 40
        }
      ]
    },
    {
      "cell_type": "code",
      "metadata": {
        "colab": {
          "base_uri": "https://localhost:8080/"
        },
        "id": "Ntz-8skIfS_0",
        "outputId": "d7c15cff-4e0e-4bf9-cdd5-b55e4308d422"
      },
      "source": [
        "#Consultando valores faltantes\n",
        "df.isnull().sum()"
      ],
      "execution_count": 41,
      "outputs": [
        {
          "output_type": "execute_result",
          "data": {
            "text/plain": [
              "Cidade    0\n",
              "Data      0\n",
              "Vendas    0\n",
              "LojaID    0\n",
              "Qtde      0\n",
              "dtype: int64"
            ]
          },
          "metadata": {
            "tags": []
          },
          "execution_count": 41
        }
      ]
    },
    {
      "cell_type": "code",
      "metadata": {
        "colab": {
          "base_uri": "https://localhost:8080/",
          "height": 514
        },
        "id": "8E_XAgCMgkQ1",
        "outputId": "72d1e3c4-68fa-4d8c-8849-3420747497d2"
      },
      "source": [
        "df.sample(15)"
      ],
      "execution_count": 42,
      "outputs": [
        {
          "output_type": "execute_result",
          "data": {
            "text/html": [
              "<div>\n",
              "<style scoped>\n",
              "    .dataframe tbody tr th:only-of-type {\n",
              "        vertical-align: middle;\n",
              "    }\n",
              "\n",
              "    .dataframe tbody tr th {\n",
              "        vertical-align: top;\n",
              "    }\n",
              "\n",
              "    .dataframe thead th {\n",
              "        text-align: right;\n",
              "    }\n",
              "</style>\n",
              "<table border=\"1\" class=\"dataframe\">\n",
              "  <thead>\n",
              "    <tr style=\"text-align: right;\">\n",
              "      <th></th>\n",
              "      <th>Cidade</th>\n",
              "      <th>Data</th>\n",
              "      <th>Vendas</th>\n",
              "      <th>LojaID</th>\n",
              "      <th>Qtde</th>\n",
              "    </tr>\n",
              "  </thead>\n",
              "  <tbody>\n",
              "    <tr>\n",
              "      <th>124</th>\n",
              "      <td>Fortaleza</td>\n",
              "      <td>2019-03-02</td>\n",
              "      <td>47.98</td>\n",
              "      <td>983</td>\n",
              "      <td>7</td>\n",
              "    </tr>\n",
              "    <tr>\n",
              "      <th>109</th>\n",
              "      <td>Natal</td>\n",
              "      <td>2019-01-02</td>\n",
              "      <td>124.37</td>\n",
              "      <td>1035</td>\n",
              "      <td>1</td>\n",
              "    </tr>\n",
              "    <tr>\n",
              "      <th>5</th>\n",
              "      <td>Natal</td>\n",
              "      <td>2019-03-30</td>\n",
              "      <td>674.00</td>\n",
              "      <td>854</td>\n",
              "      <td>2</td>\n",
              "    </tr>\n",
              "    <tr>\n",
              "      <th>61</th>\n",
              "      <td>Fortaleza</td>\n",
              "      <td>2019-01-01</td>\n",
              "      <td>37.41</td>\n",
              "      <td>1002</td>\n",
              "      <td>5</td>\n",
              "    </tr>\n",
              "    <tr>\n",
              "      <th>83</th>\n",
              "      <td>Salvador</td>\n",
              "      <td>2019-01-01</td>\n",
              "      <td>63.66</td>\n",
              "      <td>1036</td>\n",
              "      <td>2</td>\n",
              "    </tr>\n",
              "    <tr>\n",
              "      <th>175</th>\n",
              "      <td>Salvador</td>\n",
              "      <td>2019-01-02</td>\n",
              "      <td>16.53</td>\n",
              "      <td>1036</td>\n",
              "      <td>2</td>\n",
              "    </tr>\n",
              "    <tr>\n",
              "      <th>107</th>\n",
              "      <td>Aracaju</td>\n",
              "      <td>2018-01-01</td>\n",
              "      <td>142.57</td>\n",
              "      <td>1523</td>\n",
              "      <td>3</td>\n",
              "    </tr>\n",
              "    <tr>\n",
              "      <th>84</th>\n",
              "      <td>Recife</td>\n",
              "      <td>2019-01-01</td>\n",
              "      <td>36.41</td>\n",
              "      <td>980</td>\n",
              "      <td>6</td>\n",
              "    </tr>\n",
              "    <tr>\n",
              "      <th>41</th>\n",
              "      <td>Salvador</td>\n",
              "      <td>2019-02-13</td>\n",
              "      <td>9.86</td>\n",
              "      <td>1035</td>\n",
              "      <td>2</td>\n",
              "    </tr>\n",
              "    <tr>\n",
              "      <th>90</th>\n",
              "      <td>Salvador</td>\n",
              "      <td>2019-01-01</td>\n",
              "      <td>100.54</td>\n",
              "      <td>1036</td>\n",
              "      <td>2</td>\n",
              "    </tr>\n",
              "    <tr>\n",
              "      <th>6</th>\n",
              "      <td>Natal</td>\n",
              "      <td>2018-07-02</td>\n",
              "      <td>322.00</td>\n",
              "      <td>852</td>\n",
              "      <td>4</td>\n",
              "    </tr>\n",
              "    <tr>\n",
              "      <th>84</th>\n",
              "      <td>Salvador</td>\n",
              "      <td>2019-01-01</td>\n",
              "      <td>22.99</td>\n",
              "      <td>1036</td>\n",
              "      <td>1</td>\n",
              "    </tr>\n",
              "    <tr>\n",
              "      <th>200</th>\n",
              "      <td>Salvador</td>\n",
              "      <td>2019-01-02</td>\n",
              "      <td>41.06</td>\n",
              "      <td>1035</td>\n",
              "      <td>1</td>\n",
              "    </tr>\n",
              "    <tr>\n",
              "      <th>68</th>\n",
              "      <td>Recife</td>\n",
              "      <td>2019-01-01</td>\n",
              "      <td>175.45</td>\n",
              "      <td>980</td>\n",
              "      <td>3</td>\n",
              "    </tr>\n",
              "    <tr>\n",
              "      <th>109</th>\n",
              "      <td>Aracaju</td>\n",
              "      <td>2018-01-01</td>\n",
              "      <td>51.64</td>\n",
              "      <td>1523</td>\n",
              "      <td>5</td>\n",
              "    </tr>\n",
              "  </tbody>\n",
              "</table>\n",
              "</div>"
            ],
            "text/plain": [
              "        Cidade       Data  Vendas LojaID  Qtde\n",
              "124  Fortaleza 2019-03-02   47.98    983     7\n",
              "109      Natal 2019-01-02  124.37   1035     1\n",
              "5        Natal 2019-03-30  674.00    854     2\n",
              "61   Fortaleza 2019-01-01   37.41   1002     5\n",
              "83    Salvador 2019-01-01   63.66   1036     2\n",
              "175   Salvador 2019-01-02   16.53   1036     2\n",
              "107    Aracaju 2018-01-01  142.57   1523     3\n",
              "84      Recife 2019-01-01   36.41    980     6\n",
              "41    Salvador 2019-02-13    9.86   1035     2\n",
              "90    Salvador 2019-01-01  100.54   1036     2\n",
              "6        Natal 2018-07-02  322.00    852     4\n",
              "84    Salvador 2019-01-01   22.99   1036     1\n",
              "200   Salvador 2019-01-02   41.06   1035     1\n",
              "68      Recife 2019-01-01  175.45    980     3\n",
              "109    Aracaju 2018-01-01   51.64   1523     5"
            ]
          },
          "metadata": {
            "tags": []
          },
          "execution_count": 42
        }
      ]
    },
    {
      "cell_type": "code",
      "metadata": {
        "id": "x3tVNKRAfezD"
      },
      "source": [
        "#Substituindo os valores nulos pela media\n",
        "df[\"Vendas\"].fillna(df[\"Vendas\"].mean(), inplace=True)"
      ],
      "execution_count": null,
      "outputs": []
    },
    {
      "cell_type": "code",
      "metadata": {
        "id": "XOvF4ncuf44D"
      },
      "source": [
        "#Substituindo os valores nulos por zero\n",
        "df[\"VEndas\"].fillna(0, inplace=True)"
      ],
      "execution_count": null,
      "outputs": []
    },
    {
      "cell_type": "code",
      "metadata": {
        "id": "a96GyKgbgK-Z"
      },
      "source": [
        "#Apagando aqs linhas com valores nulos\n",
        "df.dropna(inplace=True)"
      ],
      "execution_count": null,
      "outputs": []
    },
    {
      "cell_type": "code",
      "metadata": {
        "id": "za_n5nQxgUhU"
      },
      "source": [
        "#Apagando as linhas com valores nulos com base apenas em 1 coluna\n",
        "df.dropna(subset=[\"Vendas\"], inplace=True)"
      ],
      "execution_count": null,
      "outputs": []
    },
    {
      "cell_type": "code",
      "metadata": {
        "id": "ovOVhuaviHil"
      },
      "source": [
        "#Removendo linhas que estejam com valores faltantes em todas as colunas\n",
        "df.dropna(how=\"all\", inplace=True)"
      ],
      "execution_count": null,
      "outputs": []
    },
    {
      "cell_type": "markdown",
      "metadata": {
        "id": "v1nkdg_rhA4G"
      },
      "source": [
        "**Criando colunas novas**"
      ]
    },
    {
      "cell_type": "code",
      "metadata": {
        "id": "2Rf7Ur8lhGEn"
      },
      "source": [
        "#Criando a coluna de receita\n",
        "df[\"Receita\"] = df[\"Vendas\"].mul(df[\"Qtde\"])"
      ],
      "execution_count": 43,
      "outputs": []
    },
    {
      "cell_type": "code",
      "metadata": {
        "colab": {
          "base_uri": "https://localhost:8080/",
          "height": 204
        },
        "id": "FwHVn7W6iUkX",
        "outputId": "195cb622-0def-49b1-96c6-1286dac3b5b0"
      },
      "source": [
        "df.head()"
      ],
      "execution_count": 44,
      "outputs": [
        {
          "output_type": "execute_result",
          "data": {
            "text/html": [
              "<div>\n",
              "<style scoped>\n",
              "    .dataframe tbody tr th:only-of-type {\n",
              "        vertical-align: middle;\n",
              "    }\n",
              "\n",
              "    .dataframe tbody tr th {\n",
              "        vertical-align: top;\n",
              "    }\n",
              "\n",
              "    .dataframe thead th {\n",
              "        text-align: right;\n",
              "    }\n",
              "</style>\n",
              "<table border=\"1\" class=\"dataframe\">\n",
              "  <thead>\n",
              "    <tr style=\"text-align: right;\">\n",
              "      <th></th>\n",
              "      <th>Cidade</th>\n",
              "      <th>Data</th>\n",
              "      <th>Vendas</th>\n",
              "      <th>LojaID</th>\n",
              "      <th>Qtde</th>\n",
              "      <th>Receita</th>\n",
              "    </tr>\n",
              "  </thead>\n",
              "  <tbody>\n",
              "    <tr>\n",
              "      <th>0</th>\n",
              "      <td>Aracaju</td>\n",
              "      <td>2018-01-01</td>\n",
              "      <td>142.00</td>\n",
              "      <td>1520</td>\n",
              "      <td>1</td>\n",
              "      <td>142.00</td>\n",
              "    </tr>\n",
              "    <tr>\n",
              "      <th>1</th>\n",
              "      <td>Aracaju</td>\n",
              "      <td>2018-01-01</td>\n",
              "      <td>14.21</td>\n",
              "      <td>1522</td>\n",
              "      <td>6</td>\n",
              "      <td>85.26</td>\n",
              "    </tr>\n",
              "    <tr>\n",
              "      <th>2</th>\n",
              "      <td>Aracaju</td>\n",
              "      <td>2018-01-01</td>\n",
              "      <td>71.55</td>\n",
              "      <td>1520</td>\n",
              "      <td>1</td>\n",
              "      <td>71.55</td>\n",
              "    </tr>\n",
              "    <tr>\n",
              "      <th>3</th>\n",
              "      <td>Aracaju</td>\n",
              "      <td>2018-01-01</td>\n",
              "      <td>3.01</td>\n",
              "      <td>1521</td>\n",
              "      <td>7</td>\n",
              "      <td>21.07</td>\n",
              "    </tr>\n",
              "    <tr>\n",
              "      <th>4</th>\n",
              "      <td>Aracaju</td>\n",
              "      <td>2018-01-01</td>\n",
              "      <td>24.51</td>\n",
              "      <td>1522</td>\n",
              "      <td>8</td>\n",
              "      <td>196.08</td>\n",
              "    </tr>\n",
              "  </tbody>\n",
              "</table>\n",
              "</div>"
            ],
            "text/plain": [
              "    Cidade       Data  Vendas LojaID  Qtde  Receita\n",
              "0  Aracaju 2018-01-01  142.00   1520     1   142.00\n",
              "1  Aracaju 2018-01-01   14.21   1522     6    85.26\n",
              "2  Aracaju 2018-01-01   71.55   1520     1    71.55\n",
              "3  Aracaju 2018-01-01    3.01   1521     7    21.07\n",
              "4  Aracaju 2018-01-01   24.51   1522     8   196.08"
            ]
          },
          "metadata": {
            "tags": []
          },
          "execution_count": 44
        }
      ]
    },
    {
      "cell_type": "code",
      "metadata": {
        "id": "BxgyPRZbiWZM"
      },
      "source": [
        "df[\"Receita/VEndas\"] = df[\"Receita\"] / df[\"Vendas\"]"
      ],
      "execution_count": null,
      "outputs": []
    },
    {
      "cell_type": "code",
      "metadata": {
        "id": "IJWPyWsRihS5"
      },
      "source": [
        "df.head()"
      ],
      "execution_count": null,
      "outputs": []
    },
    {
      "cell_type": "code",
      "metadata": {
        "colab": {
          "base_uri": "https://localhost:8080/"
        },
        "id": "AYq7JdpDixM1",
        "outputId": "aa546dc9-3718-43ce-fa3c-bfa508e87b19"
      },
      "source": [
        "#Retornando a maior receita\n",
        "df[\"Receita\"].max()"
      ],
      "execution_count": 45,
      "outputs": [
        {
          "output_type": "execute_result",
          "data": {
            "text/plain": [
              "3544.0"
            ]
          },
          "metadata": {
            "tags": []
          },
          "execution_count": 45
        }
      ]
    },
    {
      "cell_type": "code",
      "metadata": {
        "colab": {
          "base_uri": "https://localhost:8080/"
        },
        "id": "jxLAZnq8i5Fc",
        "outputId": "6f79e951-8fe9-4260-daab-7af6468638c2"
      },
      "source": [
        "#Retornando a menor receita\n",
        "df[\"Receita\"].min()"
      ],
      "execution_count": 46,
      "outputs": [
        {
          "output_type": "execute_result",
          "data": {
            "text/plain": [
              "3.34"
            ]
          },
          "metadata": {
            "tags": []
          },
          "execution_count": 46
        }
      ]
    },
    {
      "cell_type": "code",
      "metadata": {
        "colab": {
          "base_uri": "https://localhost:8080/",
          "height": 142
        },
        "id": "64ULw_3Yi_He",
        "outputId": "2d014281-cfdf-4d6d-e420-8430fe51ad50"
      },
      "source": [
        "#nlargest\n",
        "df.nlargest(3, \"Receita\")"
      ],
      "execution_count": 48,
      "outputs": [
        {
          "output_type": "execute_result",
          "data": {
            "text/html": [
              "<div>\n",
              "<style scoped>\n",
              "    .dataframe tbody tr th:only-of-type {\n",
              "        vertical-align: middle;\n",
              "    }\n",
              "\n",
              "    .dataframe tbody tr th {\n",
              "        vertical-align: top;\n",
              "    }\n",
              "\n",
              "    .dataframe thead th {\n",
              "        text-align: right;\n",
              "    }\n",
              "</style>\n",
              "<table border=\"1\" class=\"dataframe\">\n",
              "  <thead>\n",
              "    <tr style=\"text-align: right;\">\n",
              "      <th></th>\n",
              "      <th>Cidade</th>\n",
              "      <th>Data</th>\n",
              "      <th>Vendas</th>\n",
              "      <th>LojaID</th>\n",
              "      <th>Qtde</th>\n",
              "      <th>Receita</th>\n",
              "    </tr>\n",
              "  </thead>\n",
              "  <tbody>\n",
              "    <tr>\n",
              "      <th>7</th>\n",
              "      <td>Natal</td>\n",
              "      <td>2019-03-18</td>\n",
              "      <td>886.0</td>\n",
              "      <td>853</td>\n",
              "      <td>4</td>\n",
              "      <td>3544.0</td>\n",
              "    </tr>\n",
              "    <tr>\n",
              "      <th>51</th>\n",
              "      <td>Natal</td>\n",
              "      <td>2018-01-21</td>\n",
              "      <td>859.0</td>\n",
              "      <td>852</td>\n",
              "      <td>4</td>\n",
              "      <td>3436.0</td>\n",
              "    </tr>\n",
              "    <tr>\n",
              "      <th>55</th>\n",
              "      <td>Natal</td>\n",
              "      <td>2019-01-08</td>\n",
              "      <td>859.0</td>\n",
              "      <td>854</td>\n",
              "      <td>4</td>\n",
              "      <td>3436.0</td>\n",
              "    </tr>\n",
              "  </tbody>\n",
              "</table>\n",
              "</div>"
            ],
            "text/plain": [
              "   Cidade       Data  Vendas LojaID  Qtde  Receita\n",
              "7   Natal 2019-03-18   886.0    853     4   3544.0\n",
              "51  Natal 2018-01-21   859.0    852     4   3436.0\n",
              "55  Natal 2019-01-08   859.0    854     4   3436.0"
            ]
          },
          "metadata": {
            "tags": []
          },
          "execution_count": 48
        }
      ]
    },
    {
      "cell_type": "code",
      "metadata": {
        "colab": {
          "base_uri": "https://localhost:8080/",
          "height": 142
        },
        "id": "HxzhCvKHkeKp",
        "outputId": "db2be087-75cb-4ddd-81d0-6f03bcb590f7"
      },
      "source": [
        "#nsmallest\n",
        "df.nsmallest(3, \"Receita\")"
      ],
      "execution_count": 49,
      "outputs": [
        {
          "output_type": "execute_result",
          "data": {
            "text/html": [
              "<div>\n",
              "<style scoped>\n",
              "    .dataframe tbody tr th:only-of-type {\n",
              "        vertical-align: middle;\n",
              "    }\n",
              "\n",
              "    .dataframe tbody tr th {\n",
              "        vertical-align: top;\n",
              "    }\n",
              "\n",
              "    .dataframe thead th {\n",
              "        text-align: right;\n",
              "    }\n",
              "</style>\n",
              "<table border=\"1\" class=\"dataframe\">\n",
              "  <thead>\n",
              "    <tr style=\"text-align: right;\">\n",
              "      <th></th>\n",
              "      <th>Cidade</th>\n",
              "      <th>Data</th>\n",
              "      <th>Vendas</th>\n",
              "      <th>LojaID</th>\n",
              "      <th>Qtde</th>\n",
              "      <th>Receita</th>\n",
              "    </tr>\n",
              "  </thead>\n",
              "  <tbody>\n",
              "    <tr>\n",
              "      <th>118</th>\n",
              "      <td>Aracaju</td>\n",
              "      <td>2018-01-01</td>\n",
              "      <td>3.34</td>\n",
              "      <td>1522</td>\n",
              "      <td>1</td>\n",
              "      <td>3.34</td>\n",
              "    </tr>\n",
              "    <tr>\n",
              "      <th>65</th>\n",
              "      <td>Recife</td>\n",
              "      <td>2019-01-01</td>\n",
              "      <td>4.01</td>\n",
              "      <td>981</td>\n",
              "      <td>1</td>\n",
              "      <td>4.01</td>\n",
              "    </tr>\n",
              "    <tr>\n",
              "      <th>92</th>\n",
              "      <td>Natal</td>\n",
              "      <td>2019-01-02</td>\n",
              "      <td>4.57</td>\n",
              "      <td>1035</td>\n",
              "      <td>1</td>\n",
              "      <td>4.57</td>\n",
              "    </tr>\n",
              "  </tbody>\n",
              "</table>\n",
              "</div>"
            ],
            "text/plain": [
              "      Cidade       Data  Vendas LojaID  Qtde  Receita\n",
              "118  Aracaju 2018-01-01    3.34   1522     1     3.34\n",
              "65    Recife 2019-01-01    4.01    981     1     4.01\n",
              "92     Natal 2019-01-02    4.57   1035     1     4.57"
            ]
          },
          "metadata": {
            "tags": []
          },
          "execution_count": 49
        }
      ]
    },
    {
      "cell_type": "code",
      "metadata": {
        "colab": {
          "base_uri": "https://localhost:8080/"
        },
        "id": "qebfLQ2fklTX",
        "outputId": "47102d49-89aa-44ad-a7d8-495a6e21ab96"
      },
      "source": [
        "#Agrupamento por cidade\n",
        "df.groupby(\"Cidade\")[\"Receita\"].sum()"
      ],
      "execution_count": 50,
      "outputs": [
        {
          "output_type": "execute_result",
          "data": {
            "text/plain": [
              "Cidade\n",
              "Aracaju       48748.25\n",
              "Fortaleza     37913.97\n",
              "Natal        167227.52\n",
              "Recife        51936.51\n",
              "Salvador      40596.73\n",
              "Name: Receita, dtype: float64"
            ]
          },
          "metadata": {
            "tags": []
          },
          "execution_count": 50
        }
      ]
    },
    {
      "cell_type": "code",
      "metadata": {
        "colab": {
          "base_uri": "https://localhost:8080/",
          "height": 359
        },
        "id": "8_YfUifwkukN",
        "outputId": "663c6622-b245-4bce-8340-c8d9c2545a3d"
      },
      "source": [
        "#Ordenando o conjunto de dados\n",
        "df.sort_values(\"Receita\", ascending=False).head(10)"
      ],
      "execution_count": 51,
      "outputs": [
        {
          "output_type": "execute_result",
          "data": {
            "text/html": [
              "<div>\n",
              "<style scoped>\n",
              "    .dataframe tbody tr th:only-of-type {\n",
              "        vertical-align: middle;\n",
              "    }\n",
              "\n",
              "    .dataframe tbody tr th {\n",
              "        vertical-align: top;\n",
              "    }\n",
              "\n",
              "    .dataframe thead th {\n",
              "        text-align: right;\n",
              "    }\n",
              "</style>\n",
              "<table border=\"1\" class=\"dataframe\">\n",
              "  <thead>\n",
              "    <tr style=\"text-align: right;\">\n",
              "      <th></th>\n",
              "      <th>Cidade</th>\n",
              "      <th>Data</th>\n",
              "      <th>Vendas</th>\n",
              "      <th>LojaID</th>\n",
              "      <th>Qtde</th>\n",
              "      <th>Receita</th>\n",
              "    </tr>\n",
              "  </thead>\n",
              "  <tbody>\n",
              "    <tr>\n",
              "      <th>7</th>\n",
              "      <td>Natal</td>\n",
              "      <td>2019-03-18</td>\n",
              "      <td>886.0</td>\n",
              "      <td>853</td>\n",
              "      <td>4</td>\n",
              "      <td>3544.0</td>\n",
              "    </tr>\n",
              "    <tr>\n",
              "      <th>55</th>\n",
              "      <td>Natal</td>\n",
              "      <td>2019-01-08</td>\n",
              "      <td>859.0</td>\n",
              "      <td>854</td>\n",
              "      <td>4</td>\n",
              "      <td>3436.0</td>\n",
              "    </tr>\n",
              "    <tr>\n",
              "      <th>51</th>\n",
              "      <td>Natal</td>\n",
              "      <td>2018-01-21</td>\n",
              "      <td>859.0</td>\n",
              "      <td>852</td>\n",
              "      <td>4</td>\n",
              "      <td>3436.0</td>\n",
              "    </tr>\n",
              "    <tr>\n",
              "      <th>30</th>\n",
              "      <td>Natal</td>\n",
              "      <td>2018-10-02</td>\n",
              "      <td>856.0</td>\n",
              "      <td>853</td>\n",
              "      <td>4</td>\n",
              "      <td>3424.0</td>\n",
              "    </tr>\n",
              "    <tr>\n",
              "      <th>41</th>\n",
              "      <td>Natal</td>\n",
              "      <td>2018-05-20</td>\n",
              "      <td>835.0</td>\n",
              "      <td>852</td>\n",
              "      <td>4</td>\n",
              "      <td>3340.0</td>\n",
              "    </tr>\n",
              "    <tr>\n",
              "      <th>38</th>\n",
              "      <td>Natal</td>\n",
              "      <td>2018-02-25</td>\n",
              "      <td>828.0</td>\n",
              "      <td>852</td>\n",
              "      <td>4</td>\n",
              "      <td>3312.0</td>\n",
              "    </tr>\n",
              "    <tr>\n",
              "      <th>10</th>\n",
              "      <td>Natal</td>\n",
              "      <td>2018-10-27</td>\n",
              "      <td>828.0</td>\n",
              "      <td>852</td>\n",
              "      <td>4</td>\n",
              "      <td>3312.0</td>\n",
              "    </tr>\n",
              "    <tr>\n",
              "      <th>69</th>\n",
              "      <td>Natal</td>\n",
              "      <td>2019-03-24</td>\n",
              "      <td>817.0</td>\n",
              "      <td>852</td>\n",
              "      <td>4</td>\n",
              "      <td>3268.0</td>\n",
              "    </tr>\n",
              "    <tr>\n",
              "      <th>62</th>\n",
              "      <td>Natal</td>\n",
              "      <td>2018-02-10</td>\n",
              "      <td>793.0</td>\n",
              "      <td>854</td>\n",
              "      <td>4</td>\n",
              "      <td>3172.0</td>\n",
              "    </tr>\n",
              "    <tr>\n",
              "      <th>52</th>\n",
              "      <td>Natal</td>\n",
              "      <td>2018-04-27</td>\n",
              "      <td>778.0</td>\n",
              "      <td>854</td>\n",
              "      <td>4</td>\n",
              "      <td>3112.0</td>\n",
              "    </tr>\n",
              "  </tbody>\n",
              "</table>\n",
              "</div>"
            ],
            "text/plain": [
              "   Cidade       Data  Vendas LojaID  Qtde  Receita\n",
              "7   Natal 2019-03-18   886.0    853     4   3544.0\n",
              "55  Natal 2019-01-08   859.0    854     4   3436.0\n",
              "51  Natal 2018-01-21   859.0    852     4   3436.0\n",
              "30  Natal 2018-10-02   856.0    853     4   3424.0\n",
              "41  Natal 2018-05-20   835.0    852     4   3340.0\n",
              "38  Natal 2018-02-25   828.0    852     4   3312.0\n",
              "10  Natal 2018-10-27   828.0    852     4   3312.0\n",
              "69  Natal 2019-03-24   817.0    852     4   3268.0\n",
              "62  Natal 2018-02-10   793.0    854     4   3172.0\n",
              "52  Natal 2018-04-27   778.0    854     4   3112.0"
            ]
          },
          "metadata": {
            "tags": []
          },
          "execution_count": 51
        }
      ]
    },
    {
      "cell_type": "markdown",
      "metadata": {
        "id": "mmzcult-lXYb"
      },
      "source": [
        "#**Trabalhando com datas**"
      ]
    },
    {
      "cell_type": "code",
      "metadata": {
        "id": "8N2MQVDJlbCG"
      },
      "source": [
        "#Transformando a coluna de data em tipo inteiro\n",
        "df[\"Data\"] = df[\"Data\"].astype(\"int64\")"
      ],
      "execution_count": 52,
      "outputs": []
    },
    {
      "cell_type": "code",
      "metadata": {
        "colab": {
          "base_uri": "https://localhost:8080/"
        },
        "id": "lBgfyxxNyDhd",
        "outputId": "76f40bd0-2f20-45fc-f451-8a1aa51b74db"
      },
      "source": [
        "#VErificando o tipo de dado de cada coluna\n",
        "df.dtypes"
      ],
      "execution_count": 53,
      "outputs": [
        {
          "output_type": "execute_result",
          "data": {
            "text/plain": [
              "Cidade      object\n",
              "Data         int64\n",
              "Vendas     float64\n",
              "LojaID      object\n",
              "Qtde         int64\n",
              "Receita    float64\n",
              "dtype: object"
            ]
          },
          "metadata": {
            "tags": []
          },
          "execution_count": 53
        }
      ]
    },
    {
      "cell_type": "code",
      "metadata": {
        "id": "-SdEvcW2yoKc"
      },
      "source": [
        "#Transformando coluna data em data\n",
        "df[\"Data\"] = pd.to_datetime(df[\"Data\"])"
      ],
      "execution_count": 55,
      "outputs": []
    },
    {
      "cell_type": "code",
      "metadata": {
        "colab": {
          "base_uri": "https://localhost:8080/"
        },
        "id": "ICVRzd-Uy65g",
        "outputId": "d6150d87-b428-44c1-cae8-db90f5ad4f68"
      },
      "source": [
        "df.dtypes"
      ],
      "execution_count": 56,
      "outputs": [
        {
          "output_type": "execute_result",
          "data": {
            "text/plain": [
              "Cidade             object\n",
              "Data       datetime64[ns]\n",
              "Vendas            float64\n",
              "LojaID             object\n",
              "Qtde                int64\n",
              "Receita           float64\n",
              "dtype: object"
            ]
          },
          "metadata": {
            "tags": []
          },
          "execution_count": 56
        }
      ]
    },
    {
      "cell_type": "code",
      "metadata": {
        "colab": {
          "base_uri": "https://localhost:8080/"
        },
        "id": "J_U8Mtz7y_YT",
        "outputId": "3eaefd4a-578e-4ce3-c1e6-8b5d35b1cb57"
      },
      "source": [
        "#Argumento por ano\n",
        "df.groupby(df[\"Data\"].dt.year)[\"Receita\"].sum"
      ],
      "execution_count": 57,
      "outputs": [
        {
          "output_type": "execute_result",
          "data": {
            "text/plain": [
              "<bound method GroupBy.sum of <pandas.core.groupby.generic.SeriesGroupBy object at 0x7fd56c71ee50>>"
            ]
          },
          "metadata": {
            "tags": []
          },
          "execution_count": 57
        }
      ]
    },
    {
      "cell_type": "code",
      "metadata": {
        "id": "NX1V07TizOXf"
      },
      "source": [
        "#Criando uma nova coluna com o ano\n",
        "df[\"Ano_Venda\"] = df[\"Data\"].dt.year"
      ],
      "execution_count": 58,
      "outputs": []
    },
    {
      "cell_type": "code",
      "metadata": {
        "colab": {
          "base_uri": "https://localhost:8080/",
          "height": 204
        },
        "id": "lXhwiPk6zY0T",
        "outputId": "85b6a07f-77de-41f0-99e1-9fc65ec14f76"
      },
      "source": [
        "df.sample(5)"
      ],
      "execution_count": 59,
      "outputs": [
        {
          "output_type": "execute_result",
          "data": {
            "text/html": [
              "<div>\n",
              "<style scoped>\n",
              "    .dataframe tbody tr th:only-of-type {\n",
              "        vertical-align: middle;\n",
              "    }\n",
              "\n",
              "    .dataframe tbody tr th {\n",
              "        vertical-align: top;\n",
              "    }\n",
              "\n",
              "    .dataframe thead th {\n",
              "        text-align: right;\n",
              "    }\n",
              "</style>\n",
              "<table border=\"1\" class=\"dataframe\">\n",
              "  <thead>\n",
              "    <tr style=\"text-align: right;\">\n",
              "      <th></th>\n",
              "      <th>Cidade</th>\n",
              "      <th>Data</th>\n",
              "      <th>Vendas</th>\n",
              "      <th>LojaID</th>\n",
              "      <th>Qtde</th>\n",
              "      <th>Receita</th>\n",
              "      <th>Ano_Venda</th>\n",
              "    </tr>\n",
              "  </thead>\n",
              "  <tbody>\n",
              "    <tr>\n",
              "      <th>72</th>\n",
              "      <td>Salvador</td>\n",
              "      <td>2019-01-01</td>\n",
              "      <td>149.47</td>\n",
              "      <td>1036</td>\n",
              "      <td>3</td>\n",
              "      <td>448.41</td>\n",
              "      <td>2019</td>\n",
              "    </tr>\n",
              "    <tr>\n",
              "      <th>59</th>\n",
              "      <td>Recife</td>\n",
              "      <td>2019-01-01</td>\n",
              "      <td>89.39</td>\n",
              "      <td>983</td>\n",
              "      <td>5</td>\n",
              "      <td>446.95</td>\n",
              "      <td>2019</td>\n",
              "    </tr>\n",
              "    <tr>\n",
              "      <th>92</th>\n",
              "      <td>Fortaleza</td>\n",
              "      <td>2019-01-01</td>\n",
              "      <td>3.49</td>\n",
              "      <td>1005</td>\n",
              "      <td>4</td>\n",
              "      <td>13.96</td>\n",
              "      <td>2019</td>\n",
              "    </tr>\n",
              "    <tr>\n",
              "      <th>69</th>\n",
              "      <td>Aracaju</td>\n",
              "      <td>2018-01-01</td>\n",
              "      <td>15.81</td>\n",
              "      <td>1523</td>\n",
              "      <td>1</td>\n",
              "      <td>15.81</td>\n",
              "      <td>2018</td>\n",
              "    </tr>\n",
              "    <tr>\n",
              "      <th>108</th>\n",
              "      <td>Recife</td>\n",
              "      <td>2019-03-02</td>\n",
              "      <td>152.89</td>\n",
              "      <td>981</td>\n",
              "      <td>4</td>\n",
              "      <td>611.56</td>\n",
              "      <td>2019</td>\n",
              "    </tr>\n",
              "  </tbody>\n",
              "</table>\n",
              "</div>"
            ],
            "text/plain": [
              "        Cidade       Data  Vendas LojaID  Qtde  Receita  Ano_Venda\n",
              "72    Salvador 2019-01-01  149.47   1036     3   448.41       2019\n",
              "59      Recife 2019-01-01   89.39    983     5   446.95       2019\n",
              "92   Fortaleza 2019-01-01    3.49   1005     4    13.96       2019\n",
              "69     Aracaju 2018-01-01   15.81   1523     1    15.81       2018\n",
              "108     Recife 2019-03-02  152.89    981     4   611.56       2019"
            ]
          },
          "metadata": {
            "tags": []
          },
          "execution_count": 59
        }
      ]
    },
    {
      "cell_type": "code",
      "metadata": {
        "id": "2SU4BqY6zdHh"
      },
      "source": [
        "#Extraindo o mês e o dia\n",
        "df[\"mes_venda\"], df[\"dia_venda\"] = (df[\"Data\"].dt.month, df[\"Data\"].dt.day)"
      ],
      "execution_count": 60,
      "outputs": []
    },
    {
      "cell_type": "code",
      "metadata": {
        "colab": {
          "base_uri": "https://localhost:8080/",
          "height": 204
        },
        "id": "yv8oYh3r0CdH",
        "outputId": "4fb83ae4-3b07-4a43-8147-7033cdf4858e"
      },
      "source": [
        "df.sample(5)"
      ],
      "execution_count": 61,
      "outputs": [
        {
          "output_type": "execute_result",
          "data": {
            "text/html": [
              "<div>\n",
              "<style scoped>\n",
              "    .dataframe tbody tr th:only-of-type {\n",
              "        vertical-align: middle;\n",
              "    }\n",
              "\n",
              "    .dataframe tbody tr th {\n",
              "        vertical-align: top;\n",
              "    }\n",
              "\n",
              "    .dataframe thead th {\n",
              "        text-align: right;\n",
              "    }\n",
              "</style>\n",
              "<table border=\"1\" class=\"dataframe\">\n",
              "  <thead>\n",
              "    <tr style=\"text-align: right;\">\n",
              "      <th></th>\n",
              "      <th>Cidade</th>\n",
              "      <th>Data</th>\n",
              "      <th>Vendas</th>\n",
              "      <th>LojaID</th>\n",
              "      <th>Qtde</th>\n",
              "      <th>Receita</th>\n",
              "      <th>Ano_Venda</th>\n",
              "      <th>mes_venda</th>\n",
              "      <th>dia_venda</th>\n",
              "    </tr>\n",
              "  </thead>\n",
              "  <tbody>\n",
              "    <tr>\n",
              "      <th>10</th>\n",
              "      <td>Natal</td>\n",
              "      <td>2018-10-27</td>\n",
              "      <td>828.00</td>\n",
              "      <td>852</td>\n",
              "      <td>4</td>\n",
              "      <td>3312.00</td>\n",
              "      <td>2018</td>\n",
              "      <td>10</td>\n",
              "      <td>27</td>\n",
              "    </tr>\n",
              "    <tr>\n",
              "      <th>124</th>\n",
              "      <td>Fortaleza</td>\n",
              "      <td>2019-03-02</td>\n",
              "      <td>47.98</td>\n",
              "      <td>983</td>\n",
              "      <td>7</td>\n",
              "      <td>335.86</td>\n",
              "      <td>2019</td>\n",
              "      <td>3</td>\n",
              "      <td>2</td>\n",
              "    </tr>\n",
              "    <tr>\n",
              "      <th>9</th>\n",
              "      <td>Fortaleza</td>\n",
              "      <td>2019-01-01</td>\n",
              "      <td>11.17</td>\n",
              "      <td>1002</td>\n",
              "      <td>6</td>\n",
              "      <td>67.02</td>\n",
              "      <td>2019</td>\n",
              "      <td>1</td>\n",
              "      <td>1</td>\n",
              "    </tr>\n",
              "    <tr>\n",
              "      <th>139</th>\n",
              "      <td>Fortaleza</td>\n",
              "      <td>2019-03-02</td>\n",
              "      <td>141.16</td>\n",
              "      <td>980</td>\n",
              "      <td>7</td>\n",
              "      <td>988.12</td>\n",
              "      <td>2019</td>\n",
              "      <td>3</td>\n",
              "      <td>2</td>\n",
              "    </tr>\n",
              "    <tr>\n",
              "      <th>92</th>\n",
              "      <td>Aracaju</td>\n",
              "      <td>2018-01-01</td>\n",
              "      <td>37.46</td>\n",
              "      <td>1520</td>\n",
              "      <td>7</td>\n",
              "      <td>262.22</td>\n",
              "      <td>2018</td>\n",
              "      <td>1</td>\n",
              "      <td>1</td>\n",
              "    </tr>\n",
              "  </tbody>\n",
              "</table>\n",
              "</div>"
            ],
            "text/plain": [
              "        Cidade       Data  Vendas  ... Ano_Venda  mes_venda  dia_venda\n",
              "10       Natal 2018-10-27  828.00  ...      2018         10         27\n",
              "124  Fortaleza 2019-03-02   47.98  ...      2019          3          2\n",
              "9    Fortaleza 2019-01-01   11.17  ...      2019          1          1\n",
              "139  Fortaleza 2019-03-02  141.16  ...      2019          3          2\n",
              "92     Aracaju 2018-01-01   37.46  ...      2018          1          1\n",
              "\n",
              "[5 rows x 9 columns]"
            ]
          },
          "metadata": {
            "tags": []
          },
          "execution_count": 61
        }
      ]
    },
    {
      "cell_type": "code",
      "metadata": {
        "colab": {
          "base_uri": "https://localhost:8080/"
        },
        "id": "BzWAm-mU0JTH",
        "outputId": "651b8911-cb74-4c76-c00c-44268b9a6dd8"
      },
      "source": [
        "#Retornando a data mais antiga\n",
        "df[\"Data\"].min()"
      ],
      "execution_count": 62,
      "outputs": [
        {
          "output_type": "execute_result",
          "data": {
            "text/plain": [
              "Timestamp('2018-01-01 00:00:00')"
            ]
          },
          "metadata": {
            "tags": []
          },
          "execution_count": 62
        }
      ]
    },
    {
      "cell_type": "code",
      "metadata": {
        "id": "tCA2YSEz0kKI"
      },
      "source": [
        "#Calculando a diferença de dias\n",
        "df[\"Diferenca_dias\"] = df[\"Data\"] - df[\"Data\"].min()"
      ],
      "execution_count": 64,
      "outputs": []
    },
    {
      "cell_type": "code",
      "metadata": {
        "colab": {
          "base_uri": "https://localhost:8080/",
          "height": 204
        },
        "id": "IE_ZCdnT0vlW",
        "outputId": "5f689454-9921-42d4-df45-cb7fb6d91b34"
      },
      "source": [
        "df.sample(5)"
      ],
      "execution_count": 65,
      "outputs": [
        {
          "output_type": "execute_result",
          "data": {
            "text/html": [
              "<div>\n",
              "<style scoped>\n",
              "    .dataframe tbody tr th:only-of-type {\n",
              "        vertical-align: middle;\n",
              "    }\n",
              "\n",
              "    .dataframe tbody tr th {\n",
              "        vertical-align: top;\n",
              "    }\n",
              "\n",
              "    .dataframe thead th {\n",
              "        text-align: right;\n",
              "    }\n",
              "</style>\n",
              "<table border=\"1\" class=\"dataframe\">\n",
              "  <thead>\n",
              "    <tr style=\"text-align: right;\">\n",
              "      <th></th>\n",
              "      <th>Cidade</th>\n",
              "      <th>Data</th>\n",
              "      <th>Vendas</th>\n",
              "      <th>LojaID</th>\n",
              "      <th>Qtde</th>\n",
              "      <th>Receita</th>\n",
              "      <th>Ano_Venda</th>\n",
              "      <th>mes_venda</th>\n",
              "      <th>dia_venda</th>\n",
              "      <th>Diferenca_dias</th>\n",
              "    </tr>\n",
              "  </thead>\n",
              "  <tbody>\n",
              "    <tr>\n",
              "      <th>17</th>\n",
              "      <td>Natal</td>\n",
              "      <td>2018-02-18</td>\n",
              "      <td>276.00</td>\n",
              "      <td>854</td>\n",
              "      <td>3</td>\n",
              "      <td>828.00</td>\n",
              "      <td>2018</td>\n",
              "      <td>2</td>\n",
              "      <td>18</td>\n",
              "      <td>48 days</td>\n",
              "    </tr>\n",
              "    <tr>\n",
              "      <th>55</th>\n",
              "      <td>Salvador</td>\n",
              "      <td>2019-01-01</td>\n",
              "      <td>36.62</td>\n",
              "      <td>1036</td>\n",
              "      <td>1</td>\n",
              "      <td>36.62</td>\n",
              "      <td>2019</td>\n",
              "      <td>1</td>\n",
              "      <td>1</td>\n",
              "      <td>365 days</td>\n",
              "    </tr>\n",
              "    <tr>\n",
              "      <th>160</th>\n",
              "      <td>Natal</td>\n",
              "      <td>2019-01-02</td>\n",
              "      <td>11.76</td>\n",
              "      <td>1034</td>\n",
              "      <td>1</td>\n",
              "      <td>11.76</td>\n",
              "      <td>2019</td>\n",
              "      <td>1</td>\n",
              "      <td>2</td>\n",
              "      <td>366 days</td>\n",
              "    </tr>\n",
              "    <tr>\n",
              "      <th>199</th>\n",
              "      <td>Salvador</td>\n",
              "      <td>2019-01-02</td>\n",
              "      <td>153.87</td>\n",
              "      <td>1036</td>\n",
              "      <td>3</td>\n",
              "      <td>461.61</td>\n",
              "      <td>2019</td>\n",
              "      <td>1</td>\n",
              "      <td>2</td>\n",
              "      <td>366 days</td>\n",
              "    </tr>\n",
              "    <tr>\n",
              "      <th>95</th>\n",
              "      <td>Aracaju</td>\n",
              "      <td>2018-01-01</td>\n",
              "      <td>127.43</td>\n",
              "      <td>1522</td>\n",
              "      <td>9</td>\n",
              "      <td>1146.87</td>\n",
              "      <td>2018</td>\n",
              "      <td>1</td>\n",
              "      <td>1</td>\n",
              "      <td>0 days</td>\n",
              "    </tr>\n",
              "  </tbody>\n",
              "</table>\n",
              "</div>"
            ],
            "text/plain": [
              "       Cidade       Data  Vendas  ... mes_venda  dia_venda  Diferenca_dias\n",
              "17      Natal 2018-02-18  276.00  ...         2         18         48 days\n",
              "55   Salvador 2019-01-01   36.62  ...         1          1        365 days\n",
              "160     Natal 2019-01-02   11.76  ...         1          2        366 days\n",
              "199  Salvador 2019-01-02  153.87  ...         1          2        366 days\n",
              "95    Aracaju 2018-01-01  127.43  ...         1          1          0 days\n",
              "\n",
              "[5 rows x 10 columns]"
            ]
          },
          "metadata": {
            "tags": []
          },
          "execution_count": 65
        }
      ]
    },
    {
      "cell_type": "code",
      "metadata": {
        "id": "coo2NoEC037d"
      },
      "source": [
        "#Criando a coluna de trimestre\n",
        "df[\"trimestre_venda\"] = df[\"Data\"].dt.quarter"
      ],
      "execution_count": 75,
      "outputs": []
    },
    {
      "cell_type": "code",
      "metadata": {
        "id": "sFqycN9q3vSn"
      },
      "source": [
        "#Deletando coluna\n",
        "#del df[\"semestre_venda\"]"
      ],
      "execution_count": 77,
      "outputs": []
    },
    {
      "cell_type": "code",
      "metadata": {
        "colab": {
          "base_uri": "https://localhost:8080/",
          "height": 309
        },
        "id": "wpAnK_UF1Fn0",
        "outputId": "217f8c9a-1bd2-495c-a6e2-7304a643d896"
      },
      "source": [
        "df.sample(5)"
      ],
      "execution_count": 78,
      "outputs": [
        {
          "output_type": "execute_result",
          "data": {
            "text/html": [
              "<div>\n",
              "<style scoped>\n",
              "    .dataframe tbody tr th:only-of-type {\n",
              "        vertical-align: middle;\n",
              "    }\n",
              "\n",
              "    .dataframe tbody tr th {\n",
              "        vertical-align: top;\n",
              "    }\n",
              "\n",
              "    .dataframe thead th {\n",
              "        text-align: right;\n",
              "    }\n",
              "</style>\n",
              "<table border=\"1\" class=\"dataframe\">\n",
              "  <thead>\n",
              "    <tr style=\"text-align: right;\">\n",
              "      <th></th>\n",
              "      <th>Cidade</th>\n",
              "      <th>Data</th>\n",
              "      <th>Vendas</th>\n",
              "      <th>LojaID</th>\n",
              "      <th>Qtde</th>\n",
              "      <th>Receita</th>\n",
              "      <th>Ano_Venda</th>\n",
              "      <th>mes_venda</th>\n",
              "      <th>dia_venda</th>\n",
              "      <th>Diferenca_dias</th>\n",
              "      <th>trimestre_venda</th>\n",
              "    </tr>\n",
              "  </thead>\n",
              "  <tbody>\n",
              "    <tr>\n",
              "      <th>105</th>\n",
              "      <td>Recife</td>\n",
              "      <td>2019-01-01</td>\n",
              "      <td>41.12</td>\n",
              "      <td>980</td>\n",
              "      <td>3</td>\n",
              "      <td>123.36</td>\n",
              "      <td>2019</td>\n",
              "      <td>1</td>\n",
              "      <td>1</td>\n",
              "      <td>365 days</td>\n",
              "      <td>1</td>\n",
              "    </tr>\n",
              "    <tr>\n",
              "      <th>214</th>\n",
              "      <td>Salvador</td>\n",
              "      <td>2019-01-02</td>\n",
              "      <td>54.94</td>\n",
              "      <td>1036</td>\n",
              "      <td>2</td>\n",
              "      <td>109.88</td>\n",
              "      <td>2019</td>\n",
              "      <td>1</td>\n",
              "      <td>2</td>\n",
              "      <td>366 days</td>\n",
              "      <td>1</td>\n",
              "    </tr>\n",
              "    <tr>\n",
              "      <th>129</th>\n",
              "      <td>Aracaju</td>\n",
              "      <td>2018-01-01</td>\n",
              "      <td>13.70</td>\n",
              "      <td>1522</td>\n",
              "      <td>6</td>\n",
              "      <td>82.20</td>\n",
              "      <td>2018</td>\n",
              "      <td>1</td>\n",
              "      <td>1</td>\n",
              "      <td>0 days</td>\n",
              "      <td>1</td>\n",
              "    </tr>\n",
              "    <tr>\n",
              "      <th>176</th>\n",
              "      <td>Natal</td>\n",
              "      <td>2019-01-02</td>\n",
              "      <td>19.42</td>\n",
              "      <td>1035</td>\n",
              "      <td>3</td>\n",
              "      <td>58.26</td>\n",
              "      <td>2019</td>\n",
              "      <td>1</td>\n",
              "      <td>2</td>\n",
              "      <td>366 days</td>\n",
              "      <td>1</td>\n",
              "    </tr>\n",
              "    <tr>\n",
              "      <th>101</th>\n",
              "      <td>Aracaju</td>\n",
              "      <td>2018-01-01</td>\n",
              "      <td>16.62</td>\n",
              "      <td>1520</td>\n",
              "      <td>9</td>\n",
              "      <td>149.58</td>\n",
              "      <td>2018</td>\n",
              "      <td>1</td>\n",
              "      <td>1</td>\n",
              "      <td>0 days</td>\n",
              "      <td>1</td>\n",
              "    </tr>\n",
              "  </tbody>\n",
              "</table>\n",
              "</div>"
            ],
            "text/plain": [
              "       Cidade       Data  Vendas  ... dia_venda  Diferenca_dias  trimestre_venda\n",
              "105    Recife 2019-01-01   41.12  ...         1        365 days                1\n",
              "214  Salvador 2019-01-02   54.94  ...         2        366 days                1\n",
              "129   Aracaju 2018-01-01   13.70  ...         1          0 days                1\n",
              "176     Natal 2019-01-02   19.42  ...         2        366 days                1\n",
              "101   Aracaju 2018-01-01   16.62  ...         1          0 days                1\n",
              "\n",
              "[5 rows x 11 columns]"
            ]
          },
          "metadata": {
            "tags": []
          },
          "execution_count": 78
        }
      ]
    },
    {
      "cell_type": "code",
      "metadata": {
        "id": "C6vHCgR-1RYY"
      },
      "source": [
        "#Filtrando as vendas de 2019 do mês de março\n",
        "vendas_masco_2019 = df.loc[(df[\"Data\"].dt.year == 2019) & (df[\"Data\"].dt.month == 3)]"
      ],
      "execution_count": 79,
      "outputs": []
    },
    {
      "cell_type": "code",
      "metadata": {
        "colab": {
          "base_uri": "https://localhost:8080/",
          "height": 609
        },
        "id": "BeTF42m819zg",
        "outputId": "967344af-150f-43e8-8621-b0ae9ad7ee21"
      },
      "source": [
        "vendas_masco_2019"
      ],
      "execution_count": 80,
      "outputs": [
        {
          "output_type": "execute_result",
          "data": {
            "text/html": [
              "<div>\n",
              "<style scoped>\n",
              "    .dataframe tbody tr th:only-of-type {\n",
              "        vertical-align: middle;\n",
              "    }\n",
              "\n",
              "    .dataframe tbody tr th {\n",
              "        vertical-align: top;\n",
              "    }\n",
              "\n",
              "    .dataframe thead th {\n",
              "        text-align: right;\n",
              "    }\n",
              "</style>\n",
              "<table border=\"1\" class=\"dataframe\">\n",
              "  <thead>\n",
              "    <tr style=\"text-align: right;\">\n",
              "      <th></th>\n",
              "      <th>Cidade</th>\n",
              "      <th>Data</th>\n",
              "      <th>Vendas</th>\n",
              "      <th>LojaID</th>\n",
              "      <th>Qtde</th>\n",
              "      <th>Receita</th>\n",
              "      <th>Ano_Venda</th>\n",
              "      <th>mes_venda</th>\n",
              "      <th>dia_venda</th>\n",
              "      <th>Diferenca_dias</th>\n",
              "      <th>trimestre_venda</th>\n",
              "    </tr>\n",
              "  </thead>\n",
              "  <tbody>\n",
              "    <tr>\n",
              "      <th>108</th>\n",
              "      <td>Fortaleza</td>\n",
              "      <td>2019-03-02</td>\n",
              "      <td>152.89</td>\n",
              "      <td>981</td>\n",
              "      <td>4</td>\n",
              "      <td>611.56</td>\n",
              "      <td>2019</td>\n",
              "      <td>3</td>\n",
              "      <td>2</td>\n",
              "      <td>425 days</td>\n",
              "      <td>1</td>\n",
              "    </tr>\n",
              "    <tr>\n",
              "      <th>109</th>\n",
              "      <td>Fortaleza</td>\n",
              "      <td>2019-03-02</td>\n",
              "      <td>18.90</td>\n",
              "      <td>982</td>\n",
              "      <td>6</td>\n",
              "      <td>113.40</td>\n",
              "      <td>2019</td>\n",
              "      <td>3</td>\n",
              "      <td>2</td>\n",
              "      <td>425 days</td>\n",
              "      <td>1</td>\n",
              "    </tr>\n",
              "    <tr>\n",
              "      <th>110</th>\n",
              "      <td>Fortaleza</td>\n",
              "      <td>2019-03-02</td>\n",
              "      <td>51.98</td>\n",
              "      <td>983</td>\n",
              "      <td>6</td>\n",
              "      <td>311.88</td>\n",
              "      <td>2019</td>\n",
              "      <td>3</td>\n",
              "      <td>2</td>\n",
              "      <td>425 days</td>\n",
              "      <td>1</td>\n",
              "    </tr>\n",
              "    <tr>\n",
              "      <th>111</th>\n",
              "      <td>Fortaleza</td>\n",
              "      <td>2019-03-02</td>\n",
              "      <td>8.00</td>\n",
              "      <td>981</td>\n",
              "      <td>3</td>\n",
              "      <td>24.00</td>\n",
              "      <td>2019</td>\n",
              "      <td>3</td>\n",
              "      <td>2</td>\n",
              "      <td>425 days</td>\n",
              "      <td>1</td>\n",
              "    </tr>\n",
              "    <tr>\n",
              "      <th>112</th>\n",
              "      <td>Fortaleza</td>\n",
              "      <td>2019-03-02</td>\n",
              "      <td>133.59</td>\n",
              "      <td>982</td>\n",
              "      <td>1</td>\n",
              "      <td>133.59</td>\n",
              "      <td>2019</td>\n",
              "      <td>3</td>\n",
              "      <td>2</td>\n",
              "      <td>425 days</td>\n",
              "      <td>1</td>\n",
              "    </tr>\n",
              "    <tr>\n",
              "      <th>...</th>\n",
              "      <td>...</td>\n",
              "      <td>...</td>\n",
              "      <td>...</td>\n",
              "      <td>...</td>\n",
              "      <td>...</td>\n",
              "      <td>...</td>\n",
              "      <td>...</td>\n",
              "      <td>...</td>\n",
              "      <td>...</td>\n",
              "      <td>...</td>\n",
              "      <td>...</td>\n",
              "    </tr>\n",
              "    <tr>\n",
              "      <th>137</th>\n",
              "      <td>Salvador</td>\n",
              "      <td>2019-03-02</td>\n",
              "      <td>51.66</td>\n",
              "      <td>1036</td>\n",
              "      <td>3</td>\n",
              "      <td>154.98</td>\n",
              "      <td>2019</td>\n",
              "      <td>3</td>\n",
              "      <td>2</td>\n",
              "      <td>425 days</td>\n",
              "      <td>1</td>\n",
              "    </tr>\n",
              "    <tr>\n",
              "      <th>138</th>\n",
              "      <td>Salvador</td>\n",
              "      <td>2019-03-02</td>\n",
              "      <td>212.03</td>\n",
              "      <td>1037</td>\n",
              "      <td>3</td>\n",
              "      <td>636.09</td>\n",
              "      <td>2019</td>\n",
              "      <td>3</td>\n",
              "      <td>2</td>\n",
              "      <td>425 days</td>\n",
              "      <td>1</td>\n",
              "    </tr>\n",
              "    <tr>\n",
              "      <th>139</th>\n",
              "      <td>Salvador</td>\n",
              "      <td>2019-03-02</td>\n",
              "      <td>169.01</td>\n",
              "      <td>1036</td>\n",
              "      <td>1</td>\n",
              "      <td>169.01</td>\n",
              "      <td>2019</td>\n",
              "      <td>3</td>\n",
              "      <td>2</td>\n",
              "      <td>425 days</td>\n",
              "      <td>1</td>\n",
              "    </tr>\n",
              "    <tr>\n",
              "      <th>140</th>\n",
              "      <td>Salvador</td>\n",
              "      <td>2019-03-02</td>\n",
              "      <td>20.79</td>\n",
              "      <td>1036</td>\n",
              "      <td>2</td>\n",
              "      <td>41.58</td>\n",
              "      <td>2019</td>\n",
              "      <td>3</td>\n",
              "      <td>2</td>\n",
              "      <td>425 days</td>\n",
              "      <td>1</td>\n",
              "    </tr>\n",
              "    <tr>\n",
              "      <th>141</th>\n",
              "      <td>Salvador</td>\n",
              "      <td>2019-03-02</td>\n",
              "      <td>9.08</td>\n",
              "      <td>1036</td>\n",
              "      <td>1</td>\n",
              "      <td>9.08</td>\n",
              "      <td>2019</td>\n",
              "      <td>3</td>\n",
              "      <td>2</td>\n",
              "      <td>425 days</td>\n",
              "      <td>1</td>\n",
              "    </tr>\n",
              "  </tbody>\n",
              "</table>\n",
              "<p>121 rows × 11 columns</p>\n",
              "</div>"
            ],
            "text/plain": [
              "        Cidade       Data  Vendas  ... dia_venda  Diferenca_dias  trimestre_venda\n",
              "108  Fortaleza 2019-03-02  152.89  ...         2        425 days                1\n",
              "109  Fortaleza 2019-03-02   18.90  ...         2        425 days                1\n",
              "110  Fortaleza 2019-03-02   51.98  ...         2        425 days                1\n",
              "111  Fortaleza 2019-03-02    8.00  ...         2        425 days                1\n",
              "112  Fortaleza 2019-03-02  133.59  ...         2        425 days                1\n",
              "..         ...        ...     ...  ...       ...             ...              ...\n",
              "137   Salvador 2019-03-02   51.66  ...         2        425 days                1\n",
              "138   Salvador 2019-03-02  212.03  ...         2        425 days                1\n",
              "139   Salvador 2019-03-02  169.01  ...         2        425 days                1\n",
              "140   Salvador 2019-03-02   20.79  ...         2        425 days                1\n",
              "141   Salvador 2019-03-02    9.08  ...         2        425 days                1\n",
              "\n",
              "[121 rows x 11 columns]"
            ]
          },
          "metadata": {
            "tags": []
          },
          "execution_count": 80
        }
      ]
    },
    {
      "cell_type": "markdown",
      "metadata": {
        "id": "_aGWkXly21gC"
      },
      "source": [
        "#**Visualização de dados**"
      ]
    },
    {
      "cell_type": "code",
      "metadata": {
        "colab": {
          "base_uri": "https://localhost:8080/"
        },
        "id": "yRhr3US-28Zg",
        "outputId": "56ef51ec-4042-40ca-de53-77f69827cc3e"
      },
      "source": [
        "df[\"LojaID\"].value_counts(ascending=False)"
      ],
      "execution_count": 81,
      "outputs": [
        {
          "output_type": "execute_result",
          "data": {
            "text/plain": [
              "1036    117\n",
              "1035    112\n",
              "1037    101\n",
              "1034     67\n",
              "983      65\n",
              "982      44\n",
              "1522     41\n",
              "1520     39\n",
              "980      36\n",
              "981      31\n",
              "1002     30\n",
              "1005     30\n",
              "852      29\n",
              "1523     29\n",
              "1004     28\n",
              "854      28\n",
              "853      26\n",
              "1521     21\n",
              "1003     20\n",
              "Name: LojaID, dtype: int64"
            ]
          },
          "metadata": {
            "tags": []
          },
          "execution_count": 81
        }
      ]
    },
    {
      "cell_type": "code",
      "metadata": {
        "colab": {
          "base_uri": "https://localhost:8080/",
          "height": 298
        },
        "id": "DWKF4tZpETPC",
        "outputId": "e2f5ce89-7cd9-4b35-acd5-67b36d2a4d41"
      },
      "source": [
        "#Grafico de barras\n",
        "df[\"LojaID\"].value_counts(ascending=False).plot.bar()"
      ],
      "execution_count": 82,
      "outputs": [
        {
          "output_type": "execute_result",
          "data": {
            "text/plain": [
              "<matplotlib.axes._subplots.AxesSubplot at 0x7fd56c71ea90>"
            ]
          },
          "metadata": {
            "tags": []
          },
          "execution_count": 82
        },
        {
          "output_type": "display_data",
          "data": {
            "image/png": "[encoded data removed]",
            "text/plain": [
              "<Figure size 432x288 with 1 Axes>"
            ]
          },
          "metadata": {
            "tags": [],
            "needs_background": "light"
          }
        }
      ]
    },
    {
      "cell_type": "code",
      "metadata": {
        "colab": {
          "base_uri": "https://localhost:8080/",
          "height": 282
        },
        "id": "q8dUUkTzEhL1",
        "outputId": "2f375363-a075-4a48-f7fc-2182744a6ca5"
      },
      "source": [
        "#Grafico de barras hirizontais\n",
        "df[\"LojaID\"].value_counts().plot.barh()"
      ],
      "execution_count": 83,
      "outputs": [
        {
          "output_type": "execute_result",
          "data": {
            "text/plain": [
              "<matplotlib.axes._subplots.AxesSubplot at 0x7fd56b310790>"
            ]
          },
          "metadata": {
            "tags": []
          },
          "execution_count": 83
        },
        {
          "output_type": "display_data",
          "data": {
            "image/png": "[encoded data removed]",
            "text/plain": [
              "<Figure size 432x288 with 1 Axes>"
            ]
          },
          "metadata": {
            "tags": [],
            "needs_background": "light"
          }
        }
      ]
    },
    {
      "cell_type": "code",
      "metadata": {
        "colab": {
          "base_uri": "https://localhost:8080/",
          "height": 282
        },
        "id": "CmNSmEJUE-Kn",
        "outputId": "b043ecbb-dff3-4384-dfa5-1d3a5f2125e3"
      },
      "source": [
        "#Grafico de barras hirizontais\n",
        "df[\"LojaID\"].value_counts(ascending=True).plot.barh()"
      ],
      "execution_count": 84,
      "outputs": [
        {
          "output_type": "execute_result",
          "data": {
            "text/plain": [
              "<matplotlib.axes._subplots.AxesSubplot at 0x7fd56ad9a3d0>"
            ]
          },
          "metadata": {
            "tags": []
          },
          "execution_count": 84
        },
        {
          "output_type": "display_data",
          "data": {
            "image/png": "[encoded data removed]",
            "text/plain": [
              "<Figure size 432x288 with 1 Axes>"
            ]
          },
          "metadata": {
            "tags": [],
            "needs_background": "light"
          }
        }
      ]
    },
    {
      "cell_type": "code",
      "metadata": {
        "colab": {
          "base_uri": "https://localhost:8080/",
          "height": 265
        },
        "id": "QkLZkPolFI0E",
        "outputId": "3bbd6a3d-261b-44af-9d39-c9eda096daa2"
      },
      "source": [
        "#Grafico de Pizza\n",
        "df.groupby(df[\"Data\"].dt.year)[\"Receita\"].sum().plot.pie()"
      ],
      "execution_count": 85,
      "outputs": [
        {
          "output_type": "execute_result",
          "data": {
            "text/plain": [
              "<matplotlib.axes._subplots.AxesSubplot at 0x7fd56ace4310>"
            ]
          },
          "metadata": {
            "tags": []
          },
          "execution_count": 85
        },
        {
          "output_type": "display_data",
          "data": {
            "image/png": "[encoded data removed]",
            "text/plain": [
              "<Figure size 432x288 with 1 Axes>"
            ]
          },
          "metadata": {
            "tags": []
          }
        }
      ]
    },
    {
      "cell_type": "code",
      "metadata": {
        "colab": {
          "base_uri": "https://localhost:8080/"
        },
        "id": "KEG9j3MCFV9j",
        "outputId": "47cbade9-cd41-4cb3-d6d3-adf7fafe1d84"
      },
      "source": [
        "#Total vendas por cidade\n",
        "df[\"Cidade\"].value_counts()"
      ],
      "execution_count": 86,
      "outputs": [
        {
          "output_type": "execute_result",
          "data": {
            "text/plain": [
              "Natal        240\n",
              "Salvador     240\n",
              "Fortaleza    142\n",
              "Recife       142\n",
              "Aracaju      130\n",
              "Name: Cidade, dtype: int64"
            ]
          },
          "metadata": {
            "tags": []
          },
          "execution_count": 86
        }
      ]
    },
    {
      "cell_type": "code",
      "metadata": {
        "colab": {
          "base_uri": "https://localhost:8080/",
          "height": 348
        },
        "id": "zobChylNFgay",
        "outputId": "3e41207d-c339-4752-aee9-4457456acb58"
      },
      "source": [
        "#Adicionando um titulo e alterando o nome dos eixos\n",
        "import matplotlib.pyplot as plt\n",
        "df[\"Cidade\"].value_counts().plot.bar(title=\"Total vendas por cidade\")\n",
        "plt.xlabel(\"Cidade\")\n",
        "plt.ylabel(\"Total Vendas\")"
      ],
      "execution_count": 87,
      "outputs": [
        {
          "output_type": "execute_result",
          "data": {
            "text/plain": [
              "Text(0, 0.5, 'Total Vendas')"
            ]
          },
          "metadata": {
            "tags": []
          },
          "execution_count": 87
        },
        {
          "output_type": "display_data",
          "data": {
            "image/png": "[encoded data removed]",
            "text/plain": [
              "<Figure size 432x288 with 1 Axes>"
            ]
          },
          "metadata": {
            "tags": [],
            "needs_background": "light"
          }
        }
      ]
    },
    {
      "cell_type": "code",
      "metadata": {
        "colab": {
          "base_uri": "https://localhost:8080/",
          "height": 352
        },
        "id": "oMsOTsgkGkbD",
        "outputId": "dd7d9d9c-7f7a-4e85-b5b1-f43c4703a3da"
      },
      "source": [
        "#Alterando cor\n",
        "df[\"Cidade\"].value_counts().plot.bar(title=\"Total vendas por cidade\", color=\"red\")\n",
        "plt.xlabel(\"Cidade\")\n",
        "plt.ylabel(\"Total Vendas\")"
      ],
      "execution_count": 92,
      "outputs": [
        {
          "output_type": "execute_result",
          "data": {
            "text/plain": [
              "Text(0, 0.5, 'Total Vendas')"
            ]
          },
          "metadata": {
            "tags": []
          },
          "execution_count": 92
        },
        {
          "output_type": "display_data",
          "data": {
            "image/png": "[encoded data removed]",
            "text/plain": [
              "<Figure size 432x288 with 1 Axes>"
            ]
          },
          "metadata": {
            "tags": []
          }
        }
      ]
    },
    {
      "cell_type": "code",
      "metadata": {
        "id": "8sUZY82dGuLS"
      },
      "source": [
        "#Alterando o estilo\n",
        "plt.style.use(\"ggplot\")"
      ],
      "execution_count": 90,
      "outputs": []
    },
    {
      "cell_type": "code",
      "metadata": {
        "colab": {
          "base_uri": "https://localhost:8080/",
          "height": 299
        },
        "id": "BjIqgTi8HCFH",
        "outputId": "6562657b-84f2-416f-dbfa-f7b7f6bdb48c"
      },
      "source": [
        "df.groupby(df[\"mes_venda\"])[\"Qtde\"].sum().plot()\n",
        "plt.xlabel(\"Mês\")\n",
        "plt.ylabel(\"Total Produtos VEndidos\")\n",
        "plt.legend()"
      ],
      "execution_count": 96,
      "outputs": [
        {
          "output_type": "execute_result",
          "data": {
            "text/plain": [
              "<matplotlib.legend.Legend at 0x7fd56acd7490>"
            ]
          },
          "metadata": {
            "tags": []
          },
          "execution_count": 96
        },
        {
          "output_type": "display_data",
          "data": {
            "image/png": "[encoded data removed]",
            "text/plain": [
              "<Figure size 432x288 with 1 Axes>"
            ]
          },
          "metadata": {
            "tags": []
          }
        }
      ]
    },
    {
      "cell_type": "code",
      "metadata": {
        "colab": {
          "base_uri": "https://localhost:8080/"
        },
        "id": "BhInk3A9HVxe",
        "outputId": "30ece77f-fc2a-4108-dc34-f1bf4d4118fe"
      },
      "source": [
        "df.groupby(df[\"mes_venda\"])[\"Qtde\"].sum()"
      ],
      "execution_count": 94,
      "outputs": [
        {
          "output_type": "execute_result",
          "data": {
            "text/plain": [
              "mes_venda\n",
              "1     2208\n",
              "2      144\n",
              "3      467\n",
              "4       23\n",
              "5       17\n",
              "6       13\n",
              "7       13\n",
              "8        2\n",
              "9       10\n",
              "10      14\n",
              "11       2\n",
              "12       3\n",
              "Name: Qtde, dtype: int64"
            ]
          },
          "metadata": {
            "tags": []
          },
          "execution_count": 94
        }
      ]
    },
    {
      "cell_type": "code",
      "metadata": {
        "id": "3Tc9tVDbH6xd"
      },
      "source": [
        "#Selecionando apenas as vendas de 2019\n",
        "df_2019 = df[df[\"Ano_Venda\"] == 2019]"
      ],
      "execution_count": 98,
      "outputs": []
    },
    {
      "cell_type": "code",
      "metadata": {
        "colab": {
          "base_uri": "https://localhost:8080/",
          "height": 301
        },
        "id": "Mv_unB5HIrWa",
        "outputId": "2f14be3d-2c99-412f-c057-8aeb1b874ff1"
      },
      "source": [
        "#Total produtos vendidos por mês\n",
        "df_2019.groupby(df_2019[\"mes_venda\"])[\"Qtde\"].sum().plot(marker = \"v\")\n",
        "plt.xlabel(\"Mês\")\n",
        "plt.ylabel(\"Total Produtos Vendidos\");\n",
        "plt.legend()"
      ],
      "execution_count": 100,
      "outputs": [
        {
          "output_type": "execute_result",
          "data": {
            "text/plain": [
              "<matplotlib.legend.Legend at 0x7fd56c773650>"
            ]
          },
          "metadata": {
            "tags": []
          },
          "execution_count": 100
        },
        {
          "output_type": "display_data",
          "data": {
            "image/png": "[encoded data removed]",
            "text/plain": [
              "<Figure size 432x288 with 1 Axes>"
            ]
          },
          "metadata": {
            "tags": []
          }
        }
      ]
    },
    {
      "cell_type": "code",
      "metadata": {
        "colab": {
          "base_uri": "https://localhost:8080/",
          "height": 265
        },
        "id": "tP7HYAtsJNVm",
        "outputId": "17fa0220-df9e-47c7-8fff-60a9a0d15d6a"
      },
      "source": [
        "#Histograma\n",
        "plt.hist(df[\"Qtde\"], color=\"magenta\");"
      ],
      "execution_count": 101,
      "outputs": [
        {
          "output_type": "display_data",
          "data": {
            "image/png": "[encoded data removed]",
            "text/plain": [
              "<Figure size 432x288 with 1 Axes>"
            ]
          },
          "metadata": {
            "tags": []
          }
        }
      ]
    },
    {
      "cell_type": "code",
      "metadata": {
        "colab": {
          "base_uri": "https://localhost:8080/",
          "height": 265
        },
        "id": "ai7VXbWTJNRz",
        "outputId": "e366a399-69cf-48bd-fbd6-8bb3b7612f5d"
      },
      "source": [
        "plt.scatter(x=df_2019[\"dia_venda\"], y=df_2019[\"Receita\"]);"
      ],
      "execution_count": 103,
      "outputs": [
        {
          "output_type": "display_data",
          "data": {
            "image/png": "[encoded data removed]",
            "text/plain": [
              "<Figure size 432x288 with 1 Axes>"
            ]
          },
          "metadata": {
            "tags": []
          }
        }
      ]
    },
    {
      "cell_type": "code",
      "metadata": {
        "colab": {
          "base_uri": "https://localhost:8080/",
          "height": 300
        },
        "id": "zkDaTYf-JkPL",
        "outputId": "533f1825-f343-459b-94c7-bcde37c79f34"
      },
      "source": [
        "#Salvando em png\n",
        "df_2019.groupby(df_2019[\"mes_venda\"])[\"Qtde\"].sum().plot(marker = \"o\")\n",
        "plt.title(\"Quantidade de produtos vendidos X mês\")\n",
        "plt.xlabel(\"Mês\")\n",
        "plt.ylabel(\"Total Produtos Vendidos\")\n",
        "plt.legend()\n",
        "plt.savefig(\"grafico QTDE x MÊS.png\")"
      ],
      "execution_count": 105,
      "outputs": [
        {
          "output_type": "display_data",
          "data": {
            "image/png": "[encoded data removed]",
            "text/plain": [
              "<Figure size 432x288 with 1 Axes>"
            ]
          },
          "metadata": {
            "tags": []
          }
        }
      ]
    }
  ]
}